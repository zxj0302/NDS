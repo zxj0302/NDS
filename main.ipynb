{
 "cells": [
  {
   "cell_type": "code",
   "execution_count": 2,
   "id": "initial_id",
   "metadata": {
    "ExecuteTime": {
     "end_time": "2025-03-20T09:12:50.458203Z",
     "start_time": "2025-03-20T09:12:43.272883Z"
    },
    "collapsed": true
   },
   "outputs": [
    {
     "name": "stderr",
     "output_type": "stream",
     "text": [
      "\u001b[48;2;44;62;80m\u001b[37m\u001b[1m2025-10-17 18:08:59\u001b[0m\u001b[48;2;44;62;80m\u001b[37m\u001b[0m\u001b[48;2;44;62;80m\u001b[0m | \u001b[48;2;46;204;113m\u001b[37m\u001b[1mINFO    \u001b[0m\u001b[48;2;46;204;113m\u001b[37m\u001b[0m | \u001b[36m\u001b[1msrc:set_logger:61\u001b[0m\u001b[36m\u001b[0m | \u001b[48;2;46;204;113m\u001b[37m\u001b[1mLogger configured successfully\u001b[0m\u001b[48;2;46;204;113m\u001b[37m\u001b[0m\n"
     ]
    }
   ],
   "source": [
    "%load_ext autoreload\n",
    "%autoreload 2\n",
    "from src import *"
   ]
  },
  {
   "cell_type": "code",
   "execution_count": 14,
   "id": "198b0dd65c670c5e",
   "metadata": {
    "ExecuteTime": {
     "end_time": "2025-03-21T03:22:48.543279Z",
     "start_time": "2025-03-21T03:22:48.537029Z"
    },
    "collapsed": false
   },
   "outputs": [
    {
     "name": "stderr",
     "output_type": "stream",
     "text": [
      "\u001b[48;2;44;62;80m\u001b[37m\u001b[1m2025-10-18 18:53:21\u001b[0m\u001b[48;2;44;62;80m\u001b[37m\u001b[0m\u001b[48;2;44;62;80m\u001b[0m | \u001b[48;2;46;204;113m\u001b[37m\u001b[1mINFO    \u001b[0m\u001b[48;2;46;204;113m\u001b[37m\u001b[0m | \u001b[36m\u001b[1msrc.baselines:run:25\u001b[0m\u001b[36m\u001b[0m | \u001b[48;2;46;204;113m\u001b[37m\u001b[1mRunning on dataset: /Users/zxj/Desktop/NDS/input/real-world/Abortion/Abortion.txt\u001b[0m\u001b[48;2;46;204;113m\u001b[37m\u001b[0m\n",
      "\u001b[48;2;44;62;80m\u001b[37m\u001b[1m2025-10-18 18:53:21\u001b[0m\u001b[48;2;44;62;80m\u001b[37m\u001b[0m\u001b[48;2;44;62;80m\u001b[0m | \u001b[48;2;46;204;113m\u001b[37m\u001b[1mINFO    \u001b[0m\u001b[48;2;46;204;113m\u001b[37m\u001b[0m | \u001b[36m\u001b[1msrc.baselines:run:41\u001b[0m\u001b[36m\u001b[0m | \u001b[48;2;46;204;113m\u001b[37m\u001b[1mLNDS: time: 0.000483s, density: 2.036384\u001b[0m\u001b[48;2;46;204;113m\u001b[37m\u001b[0m\n",
      "\u001b[48;2;44;62;80m\u001b[37m\u001b[1m2025-10-18 18:53:21\u001b[0m\u001b[48;2;44;62;80m\u001b[37m\u001b[0m\u001b[48;2;44;62;80m\u001b[0m | \u001b[48;2;46;204;113m\u001b[37m\u001b[1mINFO    \u001b[0m\u001b[48;2;46;204;113m\u001b[37m\u001b[0m | \u001b[36m\u001b[1msrc.baselines:run:41\u001b[0m\u001b[36m\u001b[0m | \u001b[48;2;46;204;113m\u001b[37m\u001b[1mLNDS_EP: time: 0.000618s, density: 2.036384\u001b[0m\u001b[48;2;46;204;113m\u001b[37m\u001b[0m\n",
      "\u001b[48;2;44;62;80m\u001b[37m\u001b[1m2025-10-18 18:53:21\u001b[0m\u001b[48;2;44;62;80m\u001b[37m\u001b[0m\u001b[48;2;44;62;80m\u001b[0m | \u001b[48;2;46;204;113m\u001b[37m\u001b[1mINFO    \u001b[0m\u001b[48;2;46;204;113m\u001b[37m\u001b[0m | \u001b[36m\u001b[1msrc.baselines:run:41\u001b[0m\u001b[36m\u001b[0m | \u001b[48;2;46;204;113m\u001b[37m\u001b[1mGNDS: time: 0.001650s, density: 2.036384\u001b[0m\u001b[48;2;46;204;113m\u001b[37m\u001b[0m\n",
      "\u001b[48;2;44;62;80m\u001b[37m\u001b[1m2025-10-18 18:53:21\u001b[0m\u001b[48;2;44;62;80m\u001b[37m\u001b[0m\u001b[48;2;44;62;80m\u001b[0m | \u001b[48;2;46;204;113m\u001b[37m\u001b[1mINFO    \u001b[0m\u001b[48;2;46;204;113m\u001b[37m\u001b[0m | \u001b[36m\u001b[1msrc.baselines:run:41\u001b[0m\u001b[36m\u001b[0m | \u001b[48;2;46;204;113m\u001b[37m\u001b[1mNEG_DSD: time: 0.001409s, density: 2.022759\u001b[0m\u001b[48;2;46;204;113m\u001b[37m\u001b[0m\n",
      "\u001b[48;2;44;62;80m\u001b[37m\u001b[1m2025-10-18 18:53:21\u001b[0m\u001b[48;2;44;62;80m\u001b[37m\u001b[0m\u001b[48;2;44;62;80m\u001b[0m | \u001b[48;2;46;204;113m\u001b[37m\u001b[1mINFO    \u001b[0m\u001b[48;2;46;204;113m\u001b[37m\u001b[0m | \u001b[36m\u001b[1msrc.baselines:run:41\u001b[0m\u001b[36m\u001b[0m | \u001b[48;2;46;204;113m\u001b[37m\u001b[1mDCSGreedy: time: 0.004745s, density: 2.022759\u001b[0m\u001b[48;2;46;204;113m\u001b[37m\u001b[0m\n",
      "\u001b[48;2;44;62;80m\u001b[37m\u001b[1m2025-10-18 18:53:21\u001b[0m\u001b[48;2;44;62;80m\u001b[37m\u001b[0m\u001b[48;2;44;62;80m\u001b[0m | \u001b[48;2;46;204;113m\u001b[37m\u001b[1mINFO    \u001b[0m\u001b[48;2;46;204;113m\u001b[37m\u001b[0m | \u001b[36m\u001b[1msrc.baselines:run:25\u001b[0m\u001b[36m\u001b[0m | \u001b[48;2;46;204;113m\u001b[37m\u001b[1mRunning on dataset: /Users/zxj/Desktop/NDS/input/real-world/Biogrid/Biogrid.txt\u001b[0m\u001b[48;2;46;204;113m\u001b[37m\u001b[0m\n",
      "\u001b[48;2;44;62;80m\u001b[37m\u001b[1m2025-10-18 18:53:21\u001b[0m\u001b[48;2;44;62;80m\u001b[37m\u001b[0m\u001b[48;2;44;62;80m\u001b[0m | \u001b[48;2;46;204;113m\u001b[37m\u001b[1mINFO    \u001b[0m\u001b[48;2;46;204;113m\u001b[37m\u001b[0m | \u001b[36m\u001b[1msrc.baselines:run:41\u001b[0m\u001b[36m\u001b[0m | \u001b[48;2;46;204;113m\u001b[37m\u001b[1mLNDS: time: 0.000211s, density: 49.204676\u001b[0m\u001b[48;2;46;204;113m\u001b[37m\u001b[0m\n",
      "\u001b[48;2;44;62;80m\u001b[37m\u001b[1m2025-10-18 18:53:21\u001b[0m\u001b[48;2;44;62;80m\u001b[37m\u001b[0m\u001b[48;2;44;62;80m\u001b[0m | \u001b[48;2;46;204;113m\u001b[37m\u001b[1mINFO    \u001b[0m\u001b[48;2;46;204;113m\u001b[37m\u001b[0m | \u001b[36m\u001b[1msrc.baselines:run:41\u001b[0m\u001b[36m\u001b[0m | \u001b[48;2;46;204;113m\u001b[37m\u001b[1mLNDS_EP: time: 0.000398s, density: 49.204676\u001b[0m\u001b[48;2;46;204;113m\u001b[37m\u001b[0m\n",
      "\u001b[48;2;44;62;80m\u001b[37m\u001b[1m2025-10-18 18:53:21\u001b[0m\u001b[48;2;44;62;80m\u001b[37m\u001b[0m\u001b[48;2;44;62;80m\u001b[0m | \u001b[48;2;46;204;113m\u001b[37m\u001b[1mINFO    \u001b[0m\u001b[48;2;46;204;113m\u001b[37m\u001b[0m | \u001b[36m\u001b[1msrc.baselines:run:41\u001b[0m\u001b[36m\u001b[0m | \u001b[48;2;46;204;113m\u001b[37m\u001b[1mGNDS: time: 0.000853s, density: 49.204676\u001b[0m\u001b[48;2;46;204;113m\u001b[37m\u001b[0m\n",
      "\u001b[48;2;44;62;80m\u001b[37m\u001b[1m2025-10-18 18:53:21\u001b[0m\u001b[48;2;44;62;80m\u001b[37m\u001b[0m\u001b[48;2;44;62;80m\u001b[0m | \u001b[48;2;46;204;113m\u001b[37m\u001b[1mINFO    \u001b[0m\u001b[48;2;46;204;113m\u001b[37m\u001b[0m | \u001b[36m\u001b[1msrc.baselines:run:41\u001b[0m\u001b[36m\u001b[0m | \u001b[48;2;46;204;113m\u001b[37m\u001b[1mNEG_DSD: time: 0.007568s, density: 49.204676\u001b[0m\u001b[48;2;46;204;113m\u001b[37m\u001b[0m\n",
      "\u001b[48;2;44;62;80m\u001b[37m\u001b[1m2025-10-18 18:53:21\u001b[0m\u001b[48;2;44;62;80m\u001b[37m\u001b[0m\u001b[48;2;44;62;80m\u001b[0m | \u001b[48;2;46;204;113m\u001b[37m\u001b[1mINFO    \u001b[0m\u001b[48;2;46;204;113m\u001b[37m\u001b[0m | \u001b[36m\u001b[1msrc.baselines:run:41\u001b[0m\u001b[36m\u001b[0m | \u001b[48;2;46;204;113m\u001b[37m\u001b[1mDCSGreedy: time: 0.012646s, density: 49.204676\u001b[0m\u001b[48;2;46;204;113m\u001b[37m\u001b[0m\n",
      "\u001b[48;2;44;62;80m\u001b[37m\u001b[1m2025-10-18 18:53:21\u001b[0m\u001b[48;2;44;62;80m\u001b[37m\u001b[0m\u001b[48;2;44;62;80m\u001b[0m | \u001b[48;2;46;204;113m\u001b[37m\u001b[1mINFO    \u001b[0m\u001b[48;2;46;204;113m\u001b[37m\u001b[0m | \u001b[36m\u001b[1msrc.baselines:run:25\u001b[0m\u001b[36m\u001b[0m | \u001b[48;2;46;204;113m\u001b[37m\u001b[1mRunning on dataset: /Users/zxj/Desktop/NDS/input/real-world/Brexit/Brexit.txt\u001b[0m\u001b[48;2;46;204;113m\u001b[37m\u001b[0m\n",
      "\u001b[48;2;44;62;80m\u001b[37m\u001b[1m2025-10-18 18:53:21\u001b[0m\u001b[48;2;44;62;80m\u001b[37m\u001b[0m\u001b[48;2;44;62;80m\u001b[0m | \u001b[48;2;46;204;113m\u001b[37m\u001b[1mINFO    \u001b[0m\u001b[48;2;46;204;113m\u001b[37m\u001b[0m | \u001b[36m\u001b[1msrc.baselines:run:41\u001b[0m\u001b[36m\u001b[0m | \u001b[48;2;46;204;113m\u001b[37m\u001b[1mLNDS: time: 0.002586s, density: 27.935748\u001b[0m\u001b[48;2;46;204;113m\u001b[37m\u001b[0m\n",
      "\u001b[48;2;44;62;80m\u001b[37m\u001b[1m2025-10-18 18:53:22\u001b[0m\u001b[48;2;44;62;80m\u001b[37m\u001b[0m\u001b[48;2;44;62;80m\u001b[0m | \u001b[48;2;46;204;113m\u001b[37m\u001b[1mINFO    \u001b[0m\u001b[48;2;46;204;113m\u001b[37m\u001b[0m | \u001b[36m\u001b[1msrc.baselines:run:41\u001b[0m\u001b[36m\u001b[0m | \u001b[48;2;46;204;113m\u001b[37m\u001b[1mLNDS_EP: time: 0.003333s, density: 27.935748\u001b[0m\u001b[48;2;46;204;113m\u001b[37m\u001b[0m\n",
      "\u001b[48;2;44;62;80m\u001b[37m\u001b[1m2025-10-18 18:53:22\u001b[0m\u001b[48;2;44;62;80m\u001b[37m\u001b[0m\u001b[48;2;44;62;80m\u001b[0m | \u001b[48;2;46;204;113m\u001b[37m\u001b[1mINFO    \u001b[0m\u001b[48;2;46;204;113m\u001b[37m\u001b[0m | \u001b[36m\u001b[1msrc.baselines:run:41\u001b[0m\u001b[36m\u001b[0m | \u001b[48;2;46;204;113m\u001b[37m\u001b[1mGNDS: time: 0.004199s, density: 27.935748\u001b[0m\u001b[48;2;46;204;113m\u001b[37m\u001b[0m\n",
      "\u001b[48;2;44;62;80m\u001b[37m\u001b[1m2025-10-18 18:53:22\u001b[0m\u001b[48;2;44;62;80m\u001b[37m\u001b[0m\u001b[48;2;44;62;80m\u001b[0m | \u001b[48;2;46;204;113m\u001b[37m\u001b[1mINFO    \u001b[0m\u001b[48;2;46;204;113m\u001b[37m\u001b[0m | \u001b[36m\u001b[1msrc.baselines:run:41\u001b[0m\u001b[36m\u001b[0m | \u001b[48;2;46;204;113m\u001b[37m\u001b[1mNEG_DSD: time: 0.005397s, density: 27.934943\u001b[0m\u001b[48;2;46;204;113m\u001b[37m\u001b[0m\n",
      "\u001b[48;2;44;62;80m\u001b[37m\u001b[1m2025-10-18 18:53:23\u001b[0m\u001b[48;2;44;62;80m\u001b[37m\u001b[0m\u001b[48;2;44;62;80m\u001b[0m | \u001b[48;2;46;204;113m\u001b[37m\u001b[1mINFO    \u001b[0m\u001b[48;2;46;204;113m\u001b[37m\u001b[0m | \u001b[36m\u001b[1msrc.baselines:run:41\u001b[0m\u001b[36m\u001b[0m | \u001b[48;2;46;204;113m\u001b[37m\u001b[1mDCSGreedy: time: 0.076369s, density: 27.934943\u001b[0m\u001b[48;2;46;204;113m\u001b[37m\u001b[0m\n",
      "\u001b[48;2;44;62;80m\u001b[37m\u001b[1m2025-10-18 18:53:23\u001b[0m\u001b[48;2;44;62;80m\u001b[37m\u001b[0m\u001b[48;2;44;62;80m\u001b[0m | \u001b[48;2;46;204;113m\u001b[37m\u001b[1mINFO    \u001b[0m\u001b[48;2;46;204;113m\u001b[37m\u001b[0m | \u001b[36m\u001b[1msrc.baselines:run:25\u001b[0m\u001b[36m\u001b[0m | \u001b[48;2;46;204;113m\u001b[37m\u001b[1mRunning on dataset: /Users/zxj/Desktop/NDS/input/real-world/Collins/Collins.txt\u001b[0m\u001b[48;2;46;204;113m\u001b[37m\u001b[0m\n",
      "\u001b[48;2;44;62;80m\u001b[37m\u001b[1m2025-10-18 18:53:23\u001b[0m\u001b[48;2;44;62;80m\u001b[37m\u001b[0m\u001b[48;2;44;62;80m\u001b[0m | \u001b[48;2;46;204;113m\u001b[37m\u001b[1mINFO    \u001b[0m\u001b[48;2;46;204;113m\u001b[37m\u001b[0m | \u001b[36m\u001b[1msrc.baselines:run:41\u001b[0m\u001b[36m\u001b[0m | \u001b[48;2;46;204;113m\u001b[37m\u001b[1mLNDS: time: 0.000023s, density: 9.313656\u001b[0m\u001b[48;2;46;204;113m\u001b[37m\u001b[0m\n",
      "\u001b[48;2;44;62;80m\u001b[37m\u001b[1m2025-10-18 18:53:23\u001b[0m\u001b[48;2;44;62;80m\u001b[37m\u001b[0m\u001b[48;2;44;62;80m\u001b[0m | \u001b[48;2;46;204;113m\u001b[37m\u001b[1mINFO    \u001b[0m\u001b[48;2;46;204;113m\u001b[37m\u001b[0m | \u001b[36m\u001b[1msrc.baselines:run:41\u001b[0m\u001b[36m\u001b[0m | \u001b[48;2;46;204;113m\u001b[37m\u001b[1mLNDS_EP: time: 0.000023s, density: 9.313656\u001b[0m\u001b[48;2;46;204;113m\u001b[37m\u001b[0m\n",
      "\u001b[48;2;44;62;80m\u001b[37m\u001b[1m2025-10-18 18:53:23\u001b[0m\u001b[48;2;44;62;80m\u001b[37m\u001b[0m\u001b[48;2;44;62;80m\u001b[0m | \u001b[48;2;46;204;113m\u001b[37m\u001b[1mINFO    \u001b[0m\u001b[48;2;46;204;113m\u001b[37m\u001b[0m | \u001b[36m\u001b[1msrc.baselines:run:41\u001b[0m\u001b[36m\u001b[0m | \u001b[48;2;46;204;113m\u001b[37m\u001b[1mGNDS: time: 0.000929s, density: 9.313656\u001b[0m\u001b[48;2;46;204;113m\u001b[37m\u001b[0m\n",
      "\u001b[48;2;44;62;80m\u001b[37m\u001b[1m2025-10-18 18:53:23\u001b[0m\u001b[48;2;44;62;80m\u001b[37m\u001b[0m\u001b[48;2;44;62;80m\u001b[0m | \u001b[48;2;46;204;113m\u001b[37m\u001b[1mINFO    \u001b[0m\u001b[48;2;46;204;113m\u001b[37m\u001b[0m | \u001b[36m\u001b[1msrc.baselines:run:41\u001b[0m\u001b[36m\u001b[0m | \u001b[48;2;46;204;113m\u001b[37m\u001b[1mNEG_DSD: time: 0.001027s, density: 7.533520\u001b[0m\u001b[48;2;46;204;113m\u001b[37m\u001b[0m\n",
      "\u001b[48;2;44;62;80m\u001b[37m\u001b[1m2025-10-18 18:53:23\u001b[0m\u001b[48;2;44;62;80m\u001b[37m\u001b[0m\u001b[48;2;44;62;80m\u001b[0m | \u001b[48;2;46;204;113m\u001b[37m\u001b[1mINFO    \u001b[0m\u001b[48;2;46;204;113m\u001b[37m\u001b[0m | \u001b[36m\u001b[1msrc.baselines:run:41\u001b[0m\u001b[36m\u001b[0m | \u001b[48;2;46;204;113m\u001b[37m\u001b[1mDCSGreedy: time: 0.002096s, density: 9.313656\u001b[0m\u001b[48;2;46;204;113m\u001b[37m\u001b[0m\n",
      "\u001b[48;2;44;62;80m\u001b[37m\u001b[1m2025-10-18 18:53:23\u001b[0m\u001b[48;2;44;62;80m\u001b[37m\u001b[0m\u001b[48;2;44;62;80m\u001b[0m | \u001b[48;2;46;204;113m\u001b[37m\u001b[1mINFO    \u001b[0m\u001b[48;2;46;204;113m\u001b[37m\u001b[0m | \u001b[36m\u001b[1msrc.baselines:run:25\u001b[0m\u001b[36m\u001b[0m | \u001b[48;2;46;204;113m\u001b[37m\u001b[1mRunning on dataset: /Users/zxj/Desktop/NDS/input/real-world/Election/Election.txt\u001b[0m\u001b[48;2;46;204;113m\u001b[37m\u001b[0m\n",
      "\u001b[48;2;44;62;80m\u001b[37m\u001b[1m2025-10-18 18:53:23\u001b[0m\u001b[48;2;44;62;80m\u001b[37m\u001b[0m\u001b[48;2;44;62;80m\u001b[0m | \u001b[48;2;46;204;113m\u001b[37m\u001b[1mINFO    \u001b[0m\u001b[48;2;46;204;113m\u001b[37m\u001b[0m | \u001b[36m\u001b[1msrc.baselines:run:41\u001b[0m\u001b[36m\u001b[0m | \u001b[48;2;46;204;113m\u001b[37m\u001b[1mLNDS: time: 0.001085s, density: 7.171434\u001b[0m\u001b[48;2;46;204;113m\u001b[37m\u001b[0m\n",
      "\u001b[48;2;44;62;80m\u001b[37m\u001b[1m2025-10-18 18:53:23\u001b[0m\u001b[48;2;44;62;80m\u001b[37m\u001b[0m\u001b[48;2;44;62;80m\u001b[0m | \u001b[48;2;46;204;113m\u001b[37m\u001b[1mINFO    \u001b[0m\u001b[48;2;46;204;113m\u001b[37m\u001b[0m | \u001b[36m\u001b[1msrc.baselines:run:41\u001b[0m\u001b[36m\u001b[0m | \u001b[48;2;46;204;113m\u001b[37m\u001b[1mLNDS_EP: time: 0.001439s, density: 7.171434\u001b[0m\u001b[48;2;46;204;113m\u001b[37m\u001b[0m\n",
      "\u001b[48;2;44;62;80m\u001b[37m\u001b[1m2025-10-18 18:53:23\u001b[0m\u001b[48;2;44;62;80m\u001b[37m\u001b[0m\u001b[48;2;44;62;80m\u001b[0m | \u001b[48;2;46;204;113m\u001b[37m\u001b[1mINFO    \u001b[0m\u001b[48;2;46;204;113m\u001b[37m\u001b[0m | \u001b[36m\u001b[1msrc.baselines:run:41\u001b[0m\u001b[36m\u001b[0m | \u001b[48;2;46;204;113m\u001b[37m\u001b[1mGNDS: time: 0.002674s, density: 7.171434\u001b[0m\u001b[48;2;46;204;113m\u001b[37m\u001b[0m\n",
      "\u001b[48;2;44;62;80m\u001b[37m\u001b[1m2025-10-18 18:53:23\u001b[0m\u001b[48;2;44;62;80m\u001b[37m\u001b[0m\u001b[48;2;44;62;80m\u001b[0m | \u001b[48;2;46;204;113m\u001b[37m\u001b[1mINFO    \u001b[0m\u001b[48;2;46;204;113m\u001b[37m\u001b[0m | \u001b[36m\u001b[1msrc.baselines:run:41\u001b[0m\u001b[36m\u001b[0m | \u001b[48;2;46;204;113m\u001b[37m\u001b[1mNEG_DSD: time: 0.007407s, density: 7.171104\u001b[0m\u001b[48;2;46;204;113m\u001b[37m\u001b[0m\n",
      "\u001b[48;2;44;62;80m\u001b[37m\u001b[1m2025-10-18 18:53:23\u001b[0m\u001b[48;2;44;62;80m\u001b[37m\u001b[0m\u001b[48;2;44;62;80m\u001b[0m | \u001b[48;2;46;204;113m\u001b[37m\u001b[1mINFO    \u001b[0m\u001b[48;2;46;204;113m\u001b[37m\u001b[0m | \u001b[36m\u001b[1msrc.baselines:run:41\u001b[0m\u001b[36m\u001b[0m | \u001b[48;2;46;204;113m\u001b[37m\u001b[1mDCSGreedy: time: 0.025395s, density: 7.171104\u001b[0m\u001b[48;2;46;204;113m\u001b[37m\u001b[0m\n",
      "\u001b[48;2;44;62;80m\u001b[37m\u001b[1m2025-10-18 18:53:23\u001b[0m\u001b[48;2;44;62;80m\u001b[37m\u001b[0m\u001b[48;2;44;62;80m\u001b[0m | \u001b[48;2;46;204;113m\u001b[37m\u001b[1mINFO    \u001b[0m\u001b[48;2;46;204;113m\u001b[37m\u001b[0m | \u001b[36m\u001b[1msrc.baselines:run:25\u001b[0m\u001b[36m\u001b[0m | \u001b[48;2;46;204;113m\u001b[37m\u001b[1mRunning on dataset: /Users/zxj/Desktop/NDS/input/real-world/Gavin/Gavin.txt\u001b[0m\u001b[48;2;46;204;113m\u001b[37m\u001b[0m\n",
      "\u001b[48;2;44;62;80m\u001b[37m\u001b[1m2025-10-18 18:53:23\u001b[0m\u001b[48;2;44;62;80m\u001b[37m\u001b[0m\u001b[48;2;44;62;80m\u001b[0m | \u001b[48;2;46;204;113m\u001b[37m\u001b[1mINFO    \u001b[0m\u001b[48;2;46;204;113m\u001b[37m\u001b[0m | \u001b[36m\u001b[1msrc.baselines:run:41\u001b[0m\u001b[36m\u001b[0m | \u001b[48;2;46;204;113m\u001b[37m\u001b[1mLNDS: time: 0.000022s, density: 11.899082\u001b[0m\u001b[48;2;46;204;113m\u001b[37m\u001b[0m\n",
      "\u001b[48;2;44;62;80m\u001b[37m\u001b[1m2025-10-18 18:53:23\u001b[0m\u001b[48;2;44;62;80m\u001b[37m\u001b[0m\u001b[48;2;44;62;80m\u001b[0m | \u001b[48;2;46;204;113m\u001b[37m\u001b[1mINFO    \u001b[0m\u001b[48;2;46;204;113m\u001b[37m\u001b[0m | \u001b[36m\u001b[1msrc.baselines:run:41\u001b[0m\u001b[36m\u001b[0m | \u001b[48;2;46;204;113m\u001b[37m\u001b[1mLNDS_EP: time: 0.000025s, density: 11.899082\u001b[0m\u001b[48;2;46;204;113m\u001b[37m\u001b[0m\n",
      "\u001b[48;2;44;62;80m\u001b[37m\u001b[1m2025-10-18 18:53:23\u001b[0m\u001b[48;2;44;62;80m\u001b[37m\u001b[0m\u001b[48;2;44;62;80m\u001b[0m | \u001b[48;2;46;204;113m\u001b[37m\u001b[1mINFO    \u001b[0m\u001b[48;2;46;204;113m\u001b[37m\u001b[0m | \u001b[36m\u001b[1msrc.baselines:run:41\u001b[0m\u001b[36m\u001b[0m | \u001b[48;2;46;204;113m\u001b[37m\u001b[1mGNDS: time: 0.000259s, density: 11.899082\u001b[0m\u001b[48;2;46;204;113m\u001b[37m\u001b[0m\n",
      "\u001b[48;2;44;62;80m\u001b[37m\u001b[1m2025-10-18 18:53:23\u001b[0m\u001b[48;2;44;62;80m\u001b[37m\u001b[0m\u001b[48;2;44;62;80m\u001b[0m | \u001b[48;2;46;204;113m\u001b[37m\u001b[1mINFO    \u001b[0m\u001b[48;2;46;204;113m\u001b[37m\u001b[0m | \u001b[36m\u001b[1msrc.baselines:run:41\u001b[0m\u001b[36m\u001b[0m | \u001b[48;2;46;204;113m\u001b[37m\u001b[1mNEG_DSD: time: 0.000919s, density: 11.899082\u001b[0m\u001b[48;2;46;204;113m\u001b[37m\u001b[0m\n",
      "\u001b[48;2;44;62;80m\u001b[37m\u001b[1m2025-10-18 18:53:23\u001b[0m\u001b[48;2;44;62;80m\u001b[37m\u001b[0m\u001b[48;2;44;62;80m\u001b[0m | \u001b[48;2;46;204;113m\u001b[37m\u001b[1mINFO    \u001b[0m\u001b[48;2;46;204;113m\u001b[37m\u001b[0m | \u001b[36m\u001b[1msrc.baselines:run:41\u001b[0m\u001b[36m\u001b[0m | \u001b[48;2;46;204;113m\u001b[37m\u001b[1mDCSGreedy: time: 0.002027s, density: 11.899082\u001b[0m\u001b[48;2;46;204;113m\u001b[37m\u001b[0m\n",
      "\u001b[48;2;44;62;80m\u001b[37m\u001b[1m2025-10-18 18:53:23\u001b[0m\u001b[48;2;44;62;80m\u001b[37m\u001b[0m\u001b[48;2;44;62;80m\u001b[0m | \u001b[48;2;46;204;113m\u001b[37m\u001b[1mINFO    \u001b[0m\u001b[48;2;46;204;113m\u001b[37m\u001b[0m | \u001b[36m\u001b[1msrc.baselines:run:25\u001b[0m\u001b[36m\u001b[0m | \u001b[48;2;46;204;113m\u001b[37m\u001b[1mRunning on dataset: /Users/zxj/Desktop/NDS/input/real-world/Gun/Gun.txt\u001b[0m\u001b[48;2;46;204;113m\u001b[37m\u001b[0m\n",
      "\u001b[48;2;44;62;80m\u001b[37m\u001b[1m2025-10-18 18:53:23\u001b[0m\u001b[48;2;44;62;80m\u001b[37m\u001b[0m\u001b[48;2;44;62;80m\u001b[0m | \u001b[48;2;46;204;113m\u001b[37m\u001b[1mINFO    \u001b[0m\u001b[48;2;46;204;113m\u001b[37m\u001b[0m | \u001b[36m\u001b[1msrc.baselines:run:41\u001b[0m\u001b[36m\u001b[0m | \u001b[48;2;46;204;113m\u001b[37m\u001b[1mLNDS: time: 0.000289s, density: 2.048376\u001b[0m\u001b[48;2;46;204;113m\u001b[37m\u001b[0m\n",
      "\u001b[48;2;44;62;80m\u001b[37m\u001b[1m2025-10-18 18:53:24\u001b[0m\u001b[48;2;44;62;80m\u001b[37m\u001b[0m\u001b[48;2;44;62;80m\u001b[0m | \u001b[48;2;46;204;113m\u001b[37m\u001b[1mINFO    \u001b[0m\u001b[48;2;46;204;113m\u001b[37m\u001b[0m | \u001b[36m\u001b[1msrc.baselines:run:41\u001b[0m\u001b[36m\u001b[0m | \u001b[48;2;46;204;113m\u001b[37m\u001b[1mLNDS_EP: time: 0.000444s, density: 2.048376\u001b[0m\u001b[48;2;46;204;113m\u001b[37m\u001b[0m\n",
      "\u001b[48;2;44;62;80m\u001b[37m\u001b[1m2025-10-18 18:53:24\u001b[0m\u001b[48;2;44;62;80m\u001b[37m\u001b[0m\u001b[48;2;44;62;80m\u001b[0m | \u001b[48;2;46;204;113m\u001b[37m\u001b[1mINFO    \u001b[0m\u001b[48;2;46;204;113m\u001b[37m\u001b[0m | \u001b[36m\u001b[1msrc.baselines:run:41\u001b[0m\u001b[36m\u001b[0m | \u001b[48;2;46;204;113m\u001b[37m\u001b[1mGNDS: time: 0.001608s, density: 2.048376\u001b[0m\u001b[48;2;46;204;113m\u001b[37m\u001b[0m\n",
      "\u001b[48;2;44;62;80m\u001b[37m\u001b[1m2025-10-18 18:53:24\u001b[0m\u001b[48;2;44;62;80m\u001b[37m\u001b[0m\u001b[48;2;44;62;80m\u001b[0m | \u001b[48;2;46;204;113m\u001b[37m\u001b[1mINFO    \u001b[0m\u001b[48;2;46;204;113m\u001b[37m\u001b[0m | \u001b[36m\u001b[1msrc.baselines:run:41\u001b[0m\u001b[36m\u001b[0m | \u001b[48;2;46;204;113m\u001b[37m\u001b[1mNEG_DSD: time: 0.002057s, density: 2.454160\u001b[0m\u001b[48;2;46;204;113m\u001b[37m\u001b[0m\n",
      "\u001b[48;2;44;62;80m\u001b[37m\u001b[1m2025-10-18 18:53:24\u001b[0m\u001b[48;2;44;62;80m\u001b[37m\u001b[0m\u001b[48;2;44;62;80m\u001b[0m | \u001b[48;2;46;204;113m\u001b[37m\u001b[1mINFO    \u001b[0m\u001b[48;2;46;204;113m\u001b[37m\u001b[0m | \u001b[36m\u001b[1msrc.baselines:run:41\u001b[0m\u001b[36m\u001b[0m | \u001b[48;2;46;204;113m\u001b[37m\u001b[1mDCSGreedy: time: 0.005795s, density: 2.454160\u001b[0m\u001b[48;2;46;204;113m\u001b[37m\u001b[0m\n",
      "\u001b[48;2;44;62;80m\u001b[37m\u001b[1m2025-10-18 18:53:24\u001b[0m\u001b[48;2;44;62;80m\u001b[37m\u001b[0m\u001b[48;2;44;62;80m\u001b[0m | \u001b[48;2;46;204;113m\u001b[37m\u001b[1mINFO    \u001b[0m\u001b[48;2;46;204;113m\u001b[37m\u001b[0m | \u001b[36m\u001b[1msrc.baselines:run:25\u001b[0m\u001b[36m\u001b[0m | \u001b[48;2;46;204;113m\u001b[37m\u001b[1mRunning on dataset: /Users/zxj/Desktop/NDS/input/real-world/Krogan-Core/Krogan-Core.txt\u001b[0m\u001b[48;2;46;204;113m\u001b[37m\u001b[0m\n",
      "\u001b[48;2;44;62;80m\u001b[37m\u001b[1m2025-10-18 18:53:24\u001b[0m\u001b[48;2;44;62;80m\u001b[37m\u001b[0m\u001b[48;2;44;62;80m\u001b[0m | \u001b[48;2;46;204;113m\u001b[37m\u001b[1mINFO    \u001b[0m\u001b[48;2;46;204;113m\u001b[37m\u001b[0m | \u001b[36m\u001b[1msrc.baselines:run:41\u001b[0m\u001b[36m\u001b[0m | \u001b[48;2;46;204;113m\u001b[37m\u001b[1mLNDS: time: 0.000026s, density: 6.751519\u001b[0m\u001b[48;2;46;204;113m\u001b[37m\u001b[0m\n",
      "\u001b[48;2;44;62;80m\u001b[37m\u001b[1m2025-10-18 18:53:24\u001b[0m\u001b[48;2;44;62;80m\u001b[37m\u001b[0m\u001b[48;2;44;62;80m\u001b[0m | \u001b[48;2;46;204;113m\u001b[37m\u001b[1mINFO    \u001b[0m\u001b[48;2;46;204;113m\u001b[37m\u001b[0m | \u001b[36m\u001b[1msrc.baselines:run:41\u001b[0m\u001b[36m\u001b[0m | \u001b[48;2;46;204;113m\u001b[37m\u001b[1mLNDS_EP: time: 0.000022s, density: 6.751519\u001b[0m\u001b[48;2;46;204;113m\u001b[37m\u001b[0m\n",
      "\u001b[48;2;44;62;80m\u001b[37m\u001b[1m2025-10-18 18:53:24\u001b[0m\u001b[48;2;44;62;80m\u001b[37m\u001b[0m\u001b[48;2;44;62;80m\u001b[0m | \u001b[48;2;46;204;113m\u001b[37m\u001b[1mINFO    \u001b[0m\u001b[48;2;46;204;113m\u001b[37m\u001b[0m | \u001b[36m\u001b[1msrc.baselines:run:41\u001b[0m\u001b[36m\u001b[0m | \u001b[48;2;46;204;113m\u001b[37m\u001b[1mGNDS: time: 0.001537s, density: 6.751519\u001b[0m\u001b[48;2;46;204;113m\u001b[37m\u001b[0m\n",
      "\u001b[48;2;44;62;80m\u001b[37m\u001b[1m2025-10-18 18:53:24\u001b[0m\u001b[48;2;44;62;80m\u001b[37m\u001b[0m\u001b[48;2;44;62;80m\u001b[0m | \u001b[48;2;46;204;113m\u001b[37m\u001b[1mINFO    \u001b[0m\u001b[48;2;46;204;113m\u001b[37m\u001b[0m | \u001b[36m\u001b[1msrc.baselines:run:41\u001b[0m\u001b[36m\u001b[0m | \u001b[48;2;46;204;113m\u001b[37m\u001b[1mNEG_DSD: time: 0.001175s, density: 5.247494\u001b[0m\u001b[48;2;46;204;113m\u001b[37m\u001b[0m\n",
      "\u001b[48;2;44;62;80m\u001b[37m\u001b[1m2025-10-18 18:53:24\u001b[0m\u001b[48;2;44;62;80m\u001b[37m\u001b[0m\u001b[48;2;44;62;80m\u001b[0m | \u001b[48;2;46;204;113m\u001b[37m\u001b[1mINFO    \u001b[0m\u001b[48;2;46;204;113m\u001b[37m\u001b[0m | \u001b[36m\u001b[1msrc.baselines:run:41\u001b[0m\u001b[36m\u001b[0m | \u001b[48;2;46;204;113m\u001b[37m\u001b[1mDCSGreedy: time: 0.002488s, density: 6.751519\u001b[0m\u001b[48;2;46;204;113m\u001b[37m\u001b[0m\n",
      "\u001b[48;2;44;62;80m\u001b[37m\u001b[1m2025-10-18 18:53:24\u001b[0m\u001b[48;2;44;62;80m\u001b[37m\u001b[0m\u001b[48;2;44;62;80m\u001b[0m | \u001b[48;2;46;204;113m\u001b[37m\u001b[1mINFO    \u001b[0m\u001b[48;2;46;204;113m\u001b[37m\u001b[0m | \u001b[36m\u001b[1msrc.baselines:run:25\u001b[0m\u001b[36m\u001b[0m | \u001b[48;2;46;204;113m\u001b[37m\u001b[1mRunning on dataset: /Users/zxj/Desktop/NDS/input/real-world/Krogan-Extended/Krogan-Extended.txt\u001b[0m\u001b[48;2;46;204;113m\u001b[37m\u001b[0m\n",
      "\u001b[48;2;44;62;80m\u001b[37m\u001b[1m2025-10-18 18:53:24\u001b[0m\u001b[48;2;44;62;80m\u001b[37m\u001b[0m\u001b[48;2;44;62;80m\u001b[0m | \u001b[48;2;46;204;113m\u001b[37m\u001b[1mINFO    \u001b[0m\u001b[48;2;46;204;113m\u001b[37m\u001b[0m | \u001b[36m\u001b[1msrc.baselines:run:41\u001b[0m\u001b[36m\u001b[0m | \u001b[48;2;46;204;113m\u001b[37m\u001b[1mLNDS: time: 0.000039s, density: 15.818133\u001b[0m\u001b[48;2;46;204;113m\u001b[37m\u001b[0m\n",
      "\u001b[48;2;44;62;80m\u001b[37m\u001b[1m2025-10-18 18:53:24\u001b[0m\u001b[48;2;44;62;80m\u001b[37m\u001b[0m\u001b[48;2;44;62;80m\u001b[0m | \u001b[48;2;46;204;113m\u001b[37m\u001b[1mINFO    \u001b[0m\u001b[48;2;46;204;113m\u001b[37m\u001b[0m | \u001b[36m\u001b[1msrc.baselines:run:41\u001b[0m\u001b[36m\u001b[0m | \u001b[48;2;46;204;113m\u001b[37m\u001b[1mLNDS_EP: time: 0.000056s, density: 15.818133\u001b[0m\u001b[48;2;46;204;113m\u001b[37m\u001b[0m\n",
      "\u001b[48;2;44;62;80m\u001b[37m\u001b[1m2025-10-18 18:53:24\u001b[0m\u001b[48;2;44;62;80m\u001b[37m\u001b[0m\u001b[48;2;44;62;80m\u001b[0m | \u001b[48;2;46;204;113m\u001b[37m\u001b[1mINFO    \u001b[0m\u001b[48;2;46;204;113m\u001b[37m\u001b[0m | \u001b[36m\u001b[1msrc.baselines:run:41\u001b[0m\u001b[36m\u001b[0m | \u001b[48;2;46;204;113m\u001b[37m\u001b[1mGNDS: time: 0.000701s, density: 15.818133\u001b[0m\u001b[48;2;46;204;113m\u001b[37m\u001b[0m\n",
      "\u001b[48;2;44;62;80m\u001b[37m\u001b[1m2025-10-18 18:53:24\u001b[0m\u001b[48;2;44;62;80m\u001b[37m\u001b[0m\u001b[48;2;44;62;80m\u001b[0m | \u001b[48;2;46;204;113m\u001b[37m\u001b[1mINFO    \u001b[0m\u001b[48;2;46;204;113m\u001b[37m\u001b[0m | \u001b[36m\u001b[1msrc.baselines:run:41\u001b[0m\u001b[36m\u001b[0m | \u001b[48;2;46;204;113m\u001b[37m\u001b[1mNEG_DSD: time: 0.002011s, density: 13.357644\u001b[0m\u001b[48;2;46;204;113m\u001b[37m\u001b[0m\n",
      "\u001b[48;2;44;62;80m\u001b[37m\u001b[1m2025-10-18 18:53:24\u001b[0m\u001b[48;2;44;62;80m\u001b[37m\u001b[0m\u001b[48;2;44;62;80m\u001b[0m | \u001b[48;2;46;204;113m\u001b[37m\u001b[1mINFO    \u001b[0m\u001b[48;2;46;204;113m\u001b[37m\u001b[0m | \u001b[36m\u001b[1msrc.baselines:run:41\u001b[0m\u001b[36m\u001b[0m | \u001b[48;2;46;204;113m\u001b[37m\u001b[1mDCSGreedy: time: 0.004111s, density: 13.357644\u001b[0m\u001b[48;2;46;204;113m\u001b[37m\u001b[0m\n",
      "\u001b[48;2;44;62;80m\u001b[37m\u001b[1m2025-10-18 18:53:24\u001b[0m\u001b[48;2;44;62;80m\u001b[37m\u001b[0m\u001b[48;2;44;62;80m\u001b[0m | \u001b[48;2;46;204;113m\u001b[37m\u001b[1mINFO    \u001b[0m\u001b[48;2;46;204;113m\u001b[37m\u001b[0m | \u001b[36m\u001b[1msrc.baselines:run:25\u001b[0m\u001b[36m\u001b[0m | \u001b[48;2;46;204;113m\u001b[37m\u001b[1mRunning on dataset: /Users/zxj/Desktop/NDS/input/real-world/Partisanship/Partisanship.txt\u001b[0m\u001b[48;2;46;204;113m\u001b[37m\u001b[0m\n",
      "\u001b[48;2;44;62;80m\u001b[37m\u001b[1m2025-10-18 18:53:24\u001b[0m\u001b[48;2;44;62;80m\u001b[37m\u001b[0m\u001b[48;2;44;62;80m\u001b[0m | \u001b[48;2;46;204;113m\u001b[37m\u001b[1mINFO    \u001b[0m\u001b[48;2;46;204;113m\u001b[37m\u001b[0m | \u001b[36m\u001b[1msrc.baselines:run:41\u001b[0m\u001b[36m\u001b[0m | \u001b[48;2;46;204;113m\u001b[37m\u001b[1mLNDS: time: 0.002248s, density: 5.134694\u001b[0m\u001b[48;2;46;204;113m\u001b[37m\u001b[0m\n",
      "\u001b[48;2;44;62;80m\u001b[37m\u001b[1m2025-10-18 18:53:24\u001b[0m\u001b[48;2;44;62;80m\u001b[37m\u001b[0m\u001b[48;2;44;62;80m\u001b[0m | \u001b[48;2;46;204;113m\u001b[37m\u001b[1mINFO    \u001b[0m\u001b[48;2;46;204;113m\u001b[37m\u001b[0m | \u001b[36m\u001b[1msrc.baselines:run:41\u001b[0m\u001b[36m\u001b[0m | \u001b[48;2;46;204;113m\u001b[37m\u001b[1mLNDS_EP: time: 0.002557s, density: 5.134694\u001b[0m\u001b[48;2;46;204;113m\u001b[37m\u001b[0m\n",
      "\u001b[48;2;44;62;80m\u001b[37m\u001b[1m2025-10-18 18:53:24\u001b[0m\u001b[48;2;44;62;80m\u001b[37m\u001b[0m\u001b[48;2;44;62;80m\u001b[0m | \u001b[48;2;46;204;113m\u001b[37m\u001b[1mINFO    \u001b[0m\u001b[48;2;46;204;113m\u001b[37m\u001b[0m | \u001b[36m\u001b[1msrc.baselines:run:41\u001b[0m\u001b[36m\u001b[0m | \u001b[48;2;46;204;113m\u001b[37m\u001b[1mGNDS: time: 0.005039s, density: 5.134694\u001b[0m\u001b[48;2;46;204;113m\u001b[37m\u001b[0m\n",
      "\u001b[48;2;44;62;80m\u001b[37m\u001b[1m2025-10-18 18:53:25\u001b[0m\u001b[48;2;44;62;80m\u001b[37m\u001b[0m\u001b[48;2;44;62;80m\u001b[0m | \u001b[48;2;46;204;113m\u001b[37m\u001b[1mINFO    \u001b[0m\u001b[48;2;46;204;113m\u001b[37m\u001b[0m | \u001b[36m\u001b[1msrc.baselines:run:41\u001b[0m\u001b[36m\u001b[0m | \u001b[48;2;46;204;113m\u001b[37m\u001b[1mNEG_DSD: time: 0.009337s, density: 5.132777\u001b[0m\u001b[48;2;46;204;113m\u001b[37m\u001b[0m\n",
      "\u001b[48;2;44;62;80m\u001b[37m\u001b[1m2025-10-18 18:53:26\u001b[0m\u001b[48;2;44;62;80m\u001b[37m\u001b[0m\u001b[48;2;44;62;80m\u001b[0m | \u001b[48;2;46;204;113m\u001b[37m\u001b[1mINFO    \u001b[0m\u001b[48;2;46;204;113m\u001b[37m\u001b[0m | \u001b[36m\u001b[1msrc.baselines:run:41\u001b[0m\u001b[36m\u001b[0m | \u001b[48;2;46;204;113m\u001b[37m\u001b[1mDCSGreedy: time: 0.092940s, density: 5.132777\u001b[0m\u001b[48;2;46;204;113m\u001b[37m\u001b[0m\n",
      "\u001b[48;2;44;62;80m\u001b[37m\u001b[1m2025-10-18 18:53:26\u001b[0m\u001b[48;2;44;62;80m\u001b[37m\u001b[0m\u001b[48;2;44;62;80m\u001b[0m | \u001b[48;2;46;204;113m\u001b[37m\u001b[1mINFO    \u001b[0m\u001b[48;2;46;204;113m\u001b[37m\u001b[0m | \u001b[36m\u001b[1msrc.baselines:run:25\u001b[0m\u001b[36m\u001b[0m | \u001b[48;2;46;204;113m\u001b[37m\u001b[1mRunning on dataset: /Users/zxj/Desktop/NDS/input/real-world/Referendum/Referendum.txt\u001b[0m\u001b[48;2;46;204;113m\u001b[37m\u001b[0m\n",
      "\u001b[48;2;44;62;80m\u001b[37m\u001b[1m2025-10-18 18:53:26\u001b[0m\u001b[48;2;44;62;80m\u001b[37m\u001b[0m\u001b[48;2;44;62;80m\u001b[0m | \u001b[48;2;46;204;113m\u001b[37m\u001b[1mINFO    \u001b[0m\u001b[48;2;46;204;113m\u001b[37m\u001b[0m | \u001b[36m\u001b[1msrc.baselines:run:41\u001b[0m\u001b[36m\u001b[0m | \u001b[48;2;46;204;113m\u001b[37m\u001b[1mLNDS: time: 0.000623s, density: 17.779116\u001b[0m\u001b[48;2;46;204;113m\u001b[37m\u001b[0m\n",
      "\u001b[48;2;44;62;80m\u001b[37m\u001b[1m2025-10-18 18:53:26\u001b[0m\u001b[48;2;44;62;80m\u001b[37m\u001b[0m\u001b[48;2;44;62;80m\u001b[0m | \u001b[48;2;46;204;113m\u001b[37m\u001b[1mINFO    \u001b[0m\u001b[48;2;46;204;113m\u001b[37m\u001b[0m | \u001b[36m\u001b[1msrc.baselines:run:41\u001b[0m\u001b[36m\u001b[0m | \u001b[48;2;46;204;113m\u001b[37m\u001b[1mLNDS_EP: time: 0.000801s, density: 17.779116\u001b[0m\u001b[48;2;46;204;113m\u001b[37m\u001b[0m\n",
      "\u001b[48;2;44;62;80m\u001b[37m\u001b[1m2025-10-18 18:53:26\u001b[0m\u001b[48;2;44;62;80m\u001b[37m\u001b[0m\u001b[48;2;44;62;80m\u001b[0m | \u001b[48;2;46;204;113m\u001b[37m\u001b[1mINFO    \u001b[0m\u001b[48;2;46;204;113m\u001b[37m\u001b[0m | \u001b[36m\u001b[1msrc.baselines:run:41\u001b[0m\u001b[36m\u001b[0m | \u001b[48;2;46;204;113m\u001b[37m\u001b[1mGNDS: time: 0.001185s, density: 17.779116\u001b[0m\u001b[48;2;46;204;113m\u001b[37m\u001b[0m\n",
      "\u001b[48;2;44;62;80m\u001b[37m\u001b[1m2025-10-18 18:53:26\u001b[0m\u001b[48;2;44;62;80m\u001b[37m\u001b[0m\u001b[48;2;44;62;80m\u001b[0m | \u001b[48;2;46;204;113m\u001b[37m\u001b[1mINFO    \u001b[0m\u001b[48;2;46;204;113m\u001b[37m\u001b[0m | \u001b[36m\u001b[1msrc.baselines:run:41\u001b[0m\u001b[36m\u001b[0m | \u001b[48;2;46;204;113m\u001b[37m\u001b[1mNEG_DSD: time: 0.006420s, density: 17.778640\u001b[0m\u001b[48;2;46;204;113m\u001b[37m\u001b[0m\n",
      "\u001b[48;2;44;62;80m\u001b[37m\u001b[1m2025-10-18 18:53:26\u001b[0m\u001b[48;2;44;62;80m\u001b[37m\u001b[0m\u001b[48;2;44;62;80m\u001b[0m | \u001b[48;2;46;204;113m\u001b[37m\u001b[1mINFO    \u001b[0m\u001b[48;2;46;204;113m\u001b[37m\u001b[0m | \u001b[36m\u001b[1msrc.baselines:run:41\u001b[0m\u001b[36m\u001b[0m | \u001b[48;2;46;204;113m\u001b[37m\u001b[1mDCSGreedy: time: 0.020307s, density: 17.778640\u001b[0m\u001b[48;2;46;204;113m\u001b[37m\u001b[0m\n",
      "\u001b[48;2;44;62;80m\u001b[37m\u001b[1m2025-10-18 18:53:26\u001b[0m\u001b[48;2;44;62;80m\u001b[37m\u001b[0m\u001b[48;2;44;62;80m\u001b[0m | \u001b[48;2;26;188;156m\u001b[37m\u001b[1mSUCCESS \u001b[0m\u001b[48;2;26;188;156m\u001b[37m\u001b[0m | \u001b[36m\u001b[1msrc.baselines:run:42\u001b[0m\u001b[36m\u001b[0m | \u001b[48;2;26;188;156m\u001b[37m\u001b[1mAll done!\u001b[0m\u001b[48;2;26;188;156m\u001b[37m\u001b[0m\n"
     ]
    }
   ],
   "source": [
    "with open('./config.json') as f:\n",
    "    run(json.load(f)['real-world'])"
   ]
  },
  {
   "cell_type": "code",
   "execution_count": null,
   "id": "67bea05e",
   "metadata": {},
   "outputs": [],
   "source": []
  },
  {
   "cell_type": "markdown",
   "id": "8b022671",
   "metadata": {},
   "source": [
    "# Figures"
   ]
  },
  {
   "cell_type": "markdown",
   "id": "9a23a785",
   "metadata": {},
   "source": [
    "## Scalibility"
   ]
  },
  {
   "cell_type": "code",
   "execution_count": 3,
   "id": "e360d57f",
   "metadata": {},
   "outputs": [],
   "source": [
    "# scalibility(run=False, save_path=f'output/figs-theta=0/scalibility/scalibility.pdf')"
   ]
  }
 ],
 "metadata": {
  "kernelspec": {
   "display_name": "NDS (3.13.8)",
   "language": "python",
   "name": "python3"
  },
  "language_info": {
   "codemirror_mode": {
    "name": "ipython",
    "version": 3
   },
   "file_extension": ".py",
   "mimetype": "text/x-python",
   "name": "python",
   "nbconvert_exporter": "python",
   "pygments_lexer": "ipython3",
   "version": "3.13.8"
  }
 },
 "nbformat": 4,
 "nbformat_minor": 5
}
