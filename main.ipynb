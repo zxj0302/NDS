{
 "cells": [
  {
   "cell_type": "code",
   "execution_count": 1,
   "id": "initial_id",
   "metadata": {
    "ExecuteTime": {
     "end_time": "2025-03-20T09:12:50.458203Z",
     "start_time": "2025-03-20T09:12:43.272883Z"
    },
    "collapsed": true
   },
   "outputs": [
    {
     "name": "stderr",
     "output_type": "stream",
     "text": [
      "\u001b[48;2;44;62;80m\u001b[37m\u001b[1m2025-10-15 17:04:07\u001b[0m\u001b[48;2;44;62;80m\u001b[37m\u001b[0m\u001b[48;2;44;62;80m\u001b[0m | \u001b[48;2;46;204;113m\u001b[37m\u001b[1mINFO    \u001b[0m\u001b[48;2;46;204;113m\u001b[37m\u001b[0m | \u001b[36m\u001b[1msrc:set_logger:61\u001b[0m\u001b[36m\u001b[0m | \u001b[48;2;46;204;113m\u001b[37m\u001b[1mLogger configured successfully\u001b[0m\u001b[48;2;46;204;113m\u001b[37m\u001b[0m\n"
     ]
    }
   ],
   "source": [
    "%load_ext autoreload\n",
    "%autoreload 2\n",
    "from src import *"
   ]
  },
  {
   "cell_type": "code",
   "execution_count": 2,
   "id": "198b0dd65c670c5e",
   "metadata": {
    "ExecuteTime": {
     "end_time": "2025-03-21T03:22:48.543279Z",
     "start_time": "2025-03-21T03:22:48.537029Z"
    },
    "collapsed": false
   },
   "outputs": [
    {
     "name": "stderr",
     "output_type": "stream",
     "text": [
      "\u001b[48;2;44;62;80m\u001b[37m\u001b[1m2025-10-15 17:04:07\u001b[0m\u001b[48;2;44;62;80m\u001b[37m\u001b[0m\u001b[48;2;44;62;80m\u001b[0m | \u001b[48;2;46;204;113m\u001b[37m\u001b[1mINFO    \u001b[0m\u001b[48;2;46;204;113m\u001b[37m\u001b[0m | \u001b[36m\u001b[1msrc.baselines:run:25\u001b[0m\u001b[36m\u001b[0m | \u001b[48;2;46;204;113m\u001b[37m\u001b[1mRunning on dataset: /Users/zxj/Desktop/NDS/input/Abortion/Abortion.txt\u001b[0m\u001b[48;2;46;204;113m\u001b[37m\u001b[0m\n",
      "\u001b[48;2;44;62;80m\u001b[37m\u001b[1m2025-10-15 17:04:07\u001b[0m\u001b[48;2;44;62;80m\u001b[37m\u001b[0m\u001b[48;2;44;62;80m\u001b[0m | \u001b[48;2;46;204;113m\u001b[37m\u001b[1mINFO    \u001b[0m\u001b[48;2;46;204;113m\u001b[37m\u001b[0m | \u001b[36m\u001b[1msrc.baselines:run:41\u001b[0m\u001b[36m\u001b[0m | \u001b[48;2;46;204;113m\u001b[37m\u001b[1mNDS: time: 0.000673s, density: 2.036384\u001b[0m\u001b[48;2;46;204;113m\u001b[37m\u001b[0m\n",
      "\u001b[48;2;44;62;80m\u001b[37m\u001b[1m2025-10-15 17:04:07\u001b[0m\u001b[48;2;44;62;80m\u001b[37m\u001b[0m\u001b[48;2;44;62;80m\u001b[0m | \u001b[48;2;46;204;113m\u001b[37m\u001b[1mINFO    \u001b[0m\u001b[48;2;46;204;113m\u001b[37m\u001b[0m | \u001b[36m\u001b[1msrc.baselines:run:41\u001b[0m\u001b[36m\u001b[0m | \u001b[48;2;46;204;113m\u001b[37m\u001b[1mNEG_DSD: time: 0.001365s, density: 2.022759\u001b[0m\u001b[48;2;46;204;113m\u001b[37m\u001b[0m\n",
      "\u001b[48;2;44;62;80m\u001b[37m\u001b[1m2025-10-15 17:04:07\u001b[0m\u001b[48;2;44;62;80m\u001b[37m\u001b[0m\u001b[48;2;44;62;80m\u001b[0m | \u001b[48;2;46;204;113m\u001b[37m\u001b[1mINFO    \u001b[0m\u001b[48;2;46;204;113m\u001b[37m\u001b[0m | \u001b[36m\u001b[1msrc.baselines:run:25\u001b[0m\u001b[36m\u001b[0m | \u001b[48;2;46;204;113m\u001b[37m\u001b[1mRunning on dataset: /Users/zxj/Desktop/NDS/input/Biogrid/Biogrid.txt\u001b[0m\u001b[48;2;46;204;113m\u001b[37m\u001b[0m\n",
      "\u001b[48;2;44;62;80m\u001b[37m\u001b[1m2025-10-15 17:04:07\u001b[0m\u001b[48;2;44;62;80m\u001b[37m\u001b[0m\u001b[48;2;44;62;80m\u001b[0m | \u001b[48;2;46;204;113m\u001b[37m\u001b[1mINFO    \u001b[0m\u001b[48;2;46;204;113m\u001b[37m\u001b[0m | \u001b[36m\u001b[1msrc.baselines:run:41\u001b[0m\u001b[36m\u001b[0m | \u001b[48;2;46;204;113m\u001b[37m\u001b[1mNDS: time: 0.000239s, density: 49.204676\u001b[0m\u001b[48;2;46;204;113m\u001b[37m\u001b[0m\n",
      "\u001b[48;2;44;62;80m\u001b[37m\u001b[1m2025-10-15 17:04:07\u001b[0m\u001b[48;2;44;62;80m\u001b[37m\u001b[0m\u001b[48;2;44;62;80m\u001b[0m | \u001b[48;2;46;204;113m\u001b[37m\u001b[1mINFO    \u001b[0m\u001b[48;2;46;204;113m\u001b[37m\u001b[0m | \u001b[36m\u001b[1msrc.baselines:run:41\u001b[0m\u001b[36m\u001b[0m | \u001b[48;2;46;204;113m\u001b[37m\u001b[1mNEG_DSD: time: 0.006044s, density: 49.204676\u001b[0m\u001b[48;2;46;204;113m\u001b[37m\u001b[0m\n",
      "\u001b[48;2;44;62;80m\u001b[37m\u001b[1m2025-10-15 17:04:07\u001b[0m\u001b[48;2;44;62;80m\u001b[37m\u001b[0m\u001b[48;2;44;62;80m\u001b[0m | \u001b[48;2;46;204;113m\u001b[37m\u001b[1mINFO    \u001b[0m\u001b[48;2;46;204;113m\u001b[37m\u001b[0m | \u001b[36m\u001b[1msrc.baselines:run:25\u001b[0m\u001b[36m\u001b[0m | \u001b[48;2;46;204;113m\u001b[37m\u001b[1mRunning on dataset: /Users/zxj/Desktop/NDS/input/Brexit/Brexit.txt\u001b[0m\u001b[48;2;46;204;113m\u001b[37m\u001b[0m\n",
      "\u001b[48;2;44;62;80m\u001b[37m\u001b[1m2025-10-15 17:04:07\u001b[0m\u001b[48;2;44;62;80m\u001b[37m\u001b[0m\u001b[48;2;44;62;80m\u001b[0m | \u001b[48;2;46;204;113m\u001b[37m\u001b[1mINFO    \u001b[0m\u001b[48;2;46;204;113m\u001b[37m\u001b[0m | \u001b[36m\u001b[1msrc.baselines:run:41\u001b[0m\u001b[36m\u001b[0m | \u001b[48;2;46;204;113m\u001b[37m\u001b[1mNDS: time: 0.002700s, density: 27.935748\u001b[0m\u001b[48;2;46;204;113m\u001b[37m\u001b[0m\n",
      "\u001b[48;2;44;62;80m\u001b[37m\u001b[1m2025-10-15 17:04:08\u001b[0m\u001b[48;2;44;62;80m\u001b[37m\u001b[0m\u001b[48;2;44;62;80m\u001b[0m | \u001b[48;2;46;204;113m\u001b[37m\u001b[1mINFO    \u001b[0m\u001b[48;2;46;204;113m\u001b[37m\u001b[0m | \u001b[36m\u001b[1msrc.baselines:run:41\u001b[0m\u001b[36m\u001b[0m | \u001b[48;2;46;204;113m\u001b[37m\u001b[1mNEG_DSD: time: 0.005277s, density: 27.934943\u001b[0m\u001b[48;2;46;204;113m\u001b[37m\u001b[0m\n",
      "\u001b[48;2;44;62;80m\u001b[37m\u001b[1m2025-10-15 17:04:08\u001b[0m\u001b[48;2;44;62;80m\u001b[37m\u001b[0m\u001b[48;2;44;62;80m\u001b[0m | \u001b[48;2;46;204;113m\u001b[37m\u001b[1mINFO    \u001b[0m\u001b[48;2;46;204;113m\u001b[37m\u001b[0m | \u001b[36m\u001b[1msrc.baselines:run:25\u001b[0m\u001b[36m\u001b[0m | \u001b[48;2;46;204;113m\u001b[37m\u001b[1mRunning on dataset: /Users/zxj/Desktop/NDS/input/Collins/Collins.txt\u001b[0m\u001b[48;2;46;204;113m\u001b[37m\u001b[0m\n",
      "\u001b[48;2;44;62;80m\u001b[37m\u001b[1m2025-10-15 17:04:08\u001b[0m\u001b[48;2;44;62;80m\u001b[37m\u001b[0m\u001b[48;2;44;62;80m\u001b[0m | \u001b[48;2;46;204;113m\u001b[37m\u001b[1mINFO    \u001b[0m\u001b[48;2;46;204;113m\u001b[37m\u001b[0m | \u001b[36m\u001b[1msrc.baselines:run:41\u001b[0m\u001b[36m\u001b[0m | \u001b[48;2;46;204;113m\u001b[37m\u001b[1mNDS: time: 0.000022s, density: 9.313656\u001b[0m\u001b[48;2;46;204;113m\u001b[37m\u001b[0m\n",
      "\u001b[48;2;44;62;80m\u001b[37m\u001b[1m2025-10-15 17:04:08\u001b[0m\u001b[48;2;44;62;80m\u001b[37m\u001b[0m\u001b[48;2;44;62;80m\u001b[0m | \u001b[48;2;46;204;113m\u001b[37m\u001b[1mINFO    \u001b[0m\u001b[48;2;46;204;113m\u001b[37m\u001b[0m | \u001b[36m\u001b[1msrc.baselines:run:41\u001b[0m\u001b[36m\u001b[0m | \u001b[48;2;46;204;113m\u001b[37m\u001b[1mNEG_DSD: time: 0.001029s, density: 7.533520\u001b[0m\u001b[48;2;46;204;113m\u001b[37m\u001b[0m\n",
      "\u001b[48;2;44;62;80m\u001b[37m\u001b[1m2025-10-15 17:04:08\u001b[0m\u001b[48;2;44;62;80m\u001b[37m\u001b[0m\u001b[48;2;44;62;80m\u001b[0m | \u001b[48;2;46;204;113m\u001b[37m\u001b[1mINFO    \u001b[0m\u001b[48;2;46;204;113m\u001b[37m\u001b[0m | \u001b[36m\u001b[1msrc.baselines:run:25\u001b[0m\u001b[36m\u001b[0m | \u001b[48;2;46;204;113m\u001b[37m\u001b[1mRunning on dataset: /Users/zxj/Desktop/NDS/input/Election/Election.txt\u001b[0m\u001b[48;2;46;204;113m\u001b[37m\u001b[0m\n",
      "\u001b[48;2;44;62;80m\u001b[37m\u001b[1m2025-10-15 17:04:08\u001b[0m\u001b[48;2;44;62;80m\u001b[37m\u001b[0m\u001b[48;2;44;62;80m\u001b[0m | \u001b[48;2;46;204;113m\u001b[37m\u001b[1mINFO    \u001b[0m\u001b[48;2;46;204;113m\u001b[37m\u001b[0m | \u001b[36m\u001b[1msrc.baselines:run:41\u001b[0m\u001b[36m\u001b[0m | \u001b[48;2;46;204;113m\u001b[37m\u001b[1mNDS: time: 0.001118s, density: 7.171434\u001b[0m\u001b[48;2;46;204;113m\u001b[37m\u001b[0m\n",
      "\u001b[48;2;44;62;80m\u001b[37m\u001b[1m2025-10-15 17:04:08\u001b[0m\u001b[48;2;44;62;80m\u001b[37m\u001b[0m\u001b[48;2;44;62;80m\u001b[0m | \u001b[48;2;46;204;113m\u001b[37m\u001b[1mINFO    \u001b[0m\u001b[48;2;46;204;113m\u001b[37m\u001b[0m | \u001b[36m\u001b[1msrc.baselines:run:41\u001b[0m\u001b[36m\u001b[0m | \u001b[48;2;46;204;113m\u001b[37m\u001b[1mNEG_DSD: time: 0.006927s, density: 7.171104\u001b[0m\u001b[48;2;46;204;113m\u001b[37m\u001b[0m\n",
      "\u001b[48;2;44;62;80m\u001b[37m\u001b[1m2025-10-15 17:04:08\u001b[0m\u001b[48;2;44;62;80m\u001b[37m\u001b[0m\u001b[48;2;44;62;80m\u001b[0m | \u001b[48;2;46;204;113m\u001b[37m\u001b[1mINFO    \u001b[0m\u001b[48;2;46;204;113m\u001b[37m\u001b[0m | \u001b[36m\u001b[1msrc.baselines:run:25\u001b[0m\u001b[36m\u001b[0m | \u001b[48;2;46;204;113m\u001b[37m\u001b[1mRunning on dataset: /Users/zxj/Desktop/NDS/input/Gavin/Gavin.txt\u001b[0m\u001b[48;2;46;204;113m\u001b[37m\u001b[0m\n",
      "\u001b[48;2;44;62;80m\u001b[37m\u001b[1m2025-10-15 17:04:08\u001b[0m\u001b[48;2;44;62;80m\u001b[37m\u001b[0m\u001b[48;2;44;62;80m\u001b[0m | \u001b[48;2;46;204;113m\u001b[37m\u001b[1mINFO    \u001b[0m\u001b[48;2;46;204;113m\u001b[37m\u001b[0m | \u001b[36m\u001b[1msrc.baselines:run:41\u001b[0m\u001b[36m\u001b[0m | \u001b[48;2;46;204;113m\u001b[37m\u001b[1mNDS: time: 0.000024s, density: 11.899082\u001b[0m\u001b[48;2;46;204;113m\u001b[37m\u001b[0m\n",
      "\u001b[48;2;44;62;80m\u001b[37m\u001b[1m2025-10-15 17:04:08\u001b[0m\u001b[48;2;44;62;80m\u001b[37m\u001b[0m\u001b[48;2;44;62;80m\u001b[0m | \u001b[48;2;46;204;113m\u001b[37m\u001b[1mINFO    \u001b[0m\u001b[48;2;46;204;113m\u001b[37m\u001b[0m | \u001b[36m\u001b[1msrc.baselines:run:41\u001b[0m\u001b[36m\u001b[0m | \u001b[48;2;46;204;113m\u001b[37m\u001b[1mNEG_DSD: time: 0.001045s, density: 11.899082\u001b[0m\u001b[48;2;46;204;113m\u001b[37m\u001b[0m\n",
      "\u001b[48;2;44;62;80m\u001b[37m\u001b[1m2025-10-15 17:04:08\u001b[0m\u001b[48;2;44;62;80m\u001b[37m\u001b[0m\u001b[48;2;44;62;80m\u001b[0m | \u001b[48;2;46;204;113m\u001b[37m\u001b[1mINFO    \u001b[0m\u001b[48;2;46;204;113m\u001b[37m\u001b[0m | \u001b[36m\u001b[1msrc.baselines:run:25\u001b[0m\u001b[36m\u001b[0m | \u001b[48;2;46;204;113m\u001b[37m\u001b[1mRunning on dataset: /Users/zxj/Desktop/NDS/input/Gun/Gun.txt\u001b[0m\u001b[48;2;46;204;113m\u001b[37m\u001b[0m\n",
      "\u001b[48;2;44;62;80m\u001b[37m\u001b[1m2025-10-15 17:04:08\u001b[0m\u001b[48;2;44;62;80m\u001b[37m\u001b[0m\u001b[48;2;44;62;80m\u001b[0m | \u001b[48;2;46;204;113m\u001b[37m\u001b[1mINFO    \u001b[0m\u001b[48;2;46;204;113m\u001b[37m\u001b[0m | \u001b[36m\u001b[1msrc.baselines:run:41\u001b[0m\u001b[36m\u001b[0m | \u001b[48;2;46;204;113m\u001b[37m\u001b[1mNDS: time: 0.000345s, density: 2.048376\u001b[0m\u001b[48;2;46;204;113m\u001b[37m\u001b[0m\n",
      "\u001b[48;2;44;62;80m\u001b[37m\u001b[1m2025-10-15 17:04:08\u001b[0m\u001b[48;2;44;62;80m\u001b[37m\u001b[0m\u001b[48;2;44;62;80m\u001b[0m | \u001b[48;2;46;204;113m\u001b[37m\u001b[1mINFO    \u001b[0m\u001b[48;2;46;204;113m\u001b[37m\u001b[0m | \u001b[36m\u001b[1msrc.baselines:run:41\u001b[0m\u001b[36m\u001b[0m | \u001b[48;2;46;204;113m\u001b[37m\u001b[1mNEG_DSD: time: 0.002090s, density: 2.454160\u001b[0m\u001b[48;2;46;204;113m\u001b[37m\u001b[0m\n",
      "\u001b[48;2;44;62;80m\u001b[37m\u001b[1m2025-10-15 17:04:08\u001b[0m\u001b[48;2;44;62;80m\u001b[37m\u001b[0m\u001b[48;2;44;62;80m\u001b[0m | \u001b[48;2;46;204;113m\u001b[37m\u001b[1mINFO    \u001b[0m\u001b[48;2;46;204;113m\u001b[37m\u001b[0m | \u001b[36m\u001b[1msrc.baselines:run:25\u001b[0m\u001b[36m\u001b[0m | \u001b[48;2;46;204;113m\u001b[37m\u001b[1mRunning on dataset: /Users/zxj/Desktop/NDS/input/Krogan-Core/Krogan-Core.txt\u001b[0m\u001b[48;2;46;204;113m\u001b[37m\u001b[0m\n",
      "\u001b[48;2;44;62;80m\u001b[37m\u001b[1m2025-10-15 17:04:08\u001b[0m\u001b[48;2;44;62;80m\u001b[37m\u001b[0m\u001b[48;2;44;62;80m\u001b[0m | \u001b[48;2;46;204;113m\u001b[37m\u001b[1mINFO    \u001b[0m\u001b[48;2;46;204;113m\u001b[37m\u001b[0m | \u001b[36m\u001b[1msrc.baselines:run:41\u001b[0m\u001b[36m\u001b[0m | \u001b[48;2;46;204;113m\u001b[37m\u001b[1mNDS: time: 0.000022s, density: 6.751519\u001b[0m\u001b[48;2;46;204;113m\u001b[37m\u001b[0m\n",
      "\u001b[48;2;44;62;80m\u001b[37m\u001b[1m2025-10-15 17:04:08\u001b[0m\u001b[48;2;44;62;80m\u001b[37m\u001b[0m\u001b[48;2;44;62;80m\u001b[0m | \u001b[48;2;46;204;113m\u001b[37m\u001b[1mINFO    \u001b[0m\u001b[48;2;46;204;113m\u001b[37m\u001b[0m | \u001b[36m\u001b[1msrc.baselines:run:41\u001b[0m\u001b[36m\u001b[0m | \u001b[48;2;46;204;113m\u001b[37m\u001b[1mNEG_DSD: time: 0.001183s, density: 5.247494\u001b[0m\u001b[48;2;46;204;113m\u001b[37m\u001b[0m\n",
      "\u001b[48;2;44;62;80m\u001b[37m\u001b[1m2025-10-15 17:04:08\u001b[0m\u001b[48;2;44;62;80m\u001b[37m\u001b[0m\u001b[48;2;44;62;80m\u001b[0m | \u001b[48;2;46;204;113m\u001b[37m\u001b[1mINFO    \u001b[0m\u001b[48;2;46;204;113m\u001b[37m\u001b[0m | \u001b[36m\u001b[1msrc.baselines:run:25\u001b[0m\u001b[36m\u001b[0m | \u001b[48;2;46;204;113m\u001b[37m\u001b[1mRunning on dataset: /Users/zxj/Desktop/NDS/input/Krogan-Extended/Krogan-Extended.txt\u001b[0m\u001b[48;2;46;204;113m\u001b[37m\u001b[0m\n",
      "\u001b[48;2;44;62;80m\u001b[37m\u001b[1m2025-10-15 17:04:08\u001b[0m\u001b[48;2;44;62;80m\u001b[37m\u001b[0m\u001b[48;2;44;62;80m\u001b[0m | \u001b[48;2;46;204;113m\u001b[37m\u001b[1mINFO    \u001b[0m\u001b[48;2;46;204;113m\u001b[37m\u001b[0m | \u001b[36m\u001b[1msrc.baselines:run:41\u001b[0m\u001b[36m\u001b[0m | \u001b[48;2;46;204;113m\u001b[37m\u001b[1mNDS: time: 0.000048s, density: 15.818133\u001b[0m\u001b[48;2;46;204;113m\u001b[37m\u001b[0m\n",
      "\u001b[48;2;44;62;80m\u001b[37m\u001b[1m2025-10-15 17:04:08\u001b[0m\u001b[48;2;44;62;80m\u001b[37m\u001b[0m\u001b[48;2;44;62;80m\u001b[0m | \u001b[48;2;46;204;113m\u001b[37m\u001b[1mINFO    \u001b[0m\u001b[48;2;46;204;113m\u001b[37m\u001b[0m | \u001b[36m\u001b[1msrc.baselines:run:41\u001b[0m\u001b[36m\u001b[0m | \u001b[48;2;46;204;113m\u001b[37m\u001b[1mNEG_DSD: time: 0.002092s, density: 13.357644\u001b[0m\u001b[48;2;46;204;113m\u001b[37m\u001b[0m\n",
      "\u001b[48;2;44;62;80m\u001b[37m\u001b[1m2025-10-15 17:04:08\u001b[0m\u001b[48;2;44;62;80m\u001b[37m\u001b[0m\u001b[48;2;44;62;80m\u001b[0m | \u001b[48;2;46;204;113m\u001b[37m\u001b[1mINFO    \u001b[0m\u001b[48;2;46;204;113m\u001b[37m\u001b[0m | \u001b[36m\u001b[1msrc.baselines:run:25\u001b[0m\u001b[36m\u001b[0m | \u001b[48;2;46;204;113m\u001b[37m\u001b[1mRunning on dataset: /Users/zxj/Desktop/NDS/input/Partisanship/Partisanship.txt\u001b[0m\u001b[48;2;46;204;113m\u001b[37m\u001b[0m\n",
      "\u001b[48;2;44;62;80m\u001b[37m\u001b[1m2025-10-15 17:04:08\u001b[0m\u001b[48;2;44;62;80m\u001b[37m\u001b[0m\u001b[48;2;44;62;80m\u001b[0m | \u001b[48;2;46;204;113m\u001b[37m\u001b[1mINFO    \u001b[0m\u001b[48;2;46;204;113m\u001b[37m\u001b[0m | \u001b[36m\u001b[1msrc.baselines:run:41\u001b[0m\u001b[36m\u001b[0m | \u001b[48;2;46;204;113m\u001b[37m\u001b[1mNDS: time: 0.002249s, density: 5.134694\u001b[0m\u001b[48;2;46;204;113m\u001b[37m\u001b[0m\n",
      "\u001b[48;2;44;62;80m\u001b[37m\u001b[1m2025-10-15 17:04:08\u001b[0m\u001b[48;2;44;62;80m\u001b[37m\u001b[0m\u001b[48;2;44;62;80m\u001b[0m | \u001b[48;2;46;204;113m\u001b[37m\u001b[1mINFO    \u001b[0m\u001b[48;2;46;204;113m\u001b[37m\u001b[0m | \u001b[36m\u001b[1msrc.baselines:run:41\u001b[0m\u001b[36m\u001b[0m | \u001b[48;2;46;204;113m\u001b[37m\u001b[1mNEG_DSD: time: 0.009512s, density: 5.132777\u001b[0m\u001b[48;2;46;204;113m\u001b[37m\u001b[0m\n",
      "\u001b[48;2;44;62;80m\u001b[37m\u001b[1m2025-10-15 17:04:08\u001b[0m\u001b[48;2;44;62;80m\u001b[37m\u001b[0m\u001b[48;2;44;62;80m\u001b[0m | \u001b[48;2;46;204;113m\u001b[37m\u001b[1mINFO    \u001b[0m\u001b[48;2;46;204;113m\u001b[37m\u001b[0m | \u001b[36m\u001b[1msrc.baselines:run:25\u001b[0m\u001b[36m\u001b[0m | \u001b[48;2;46;204;113m\u001b[37m\u001b[1mRunning on dataset: /Users/zxj/Desktop/NDS/input/Referendum/Referendum.txt\u001b[0m\u001b[48;2;46;204;113m\u001b[37m\u001b[0m\n",
      "\u001b[48;2;44;62;80m\u001b[37m\u001b[1m2025-10-15 17:04:08\u001b[0m\u001b[48;2;44;62;80m\u001b[37m\u001b[0m\u001b[48;2;44;62;80m\u001b[0m | \u001b[48;2;46;204;113m\u001b[37m\u001b[1mINFO    \u001b[0m\u001b[48;2;46;204;113m\u001b[37m\u001b[0m | \u001b[36m\u001b[1msrc.baselines:run:41\u001b[0m\u001b[36m\u001b[0m | \u001b[48;2;46;204;113m\u001b[37m\u001b[1mNDS: time: 0.000644s, density: 17.779116\u001b[0m\u001b[48;2;46;204;113m\u001b[37m\u001b[0m\n",
      "\u001b[48;2;44;62;80m\u001b[37m\u001b[1m2025-10-15 17:04:09\u001b[0m\u001b[48;2;44;62;80m\u001b[37m\u001b[0m\u001b[48;2;44;62;80m\u001b[0m | \u001b[48;2;46;204;113m\u001b[37m\u001b[1mINFO    \u001b[0m\u001b[48;2;46;204;113m\u001b[37m\u001b[0m | \u001b[36m\u001b[1msrc.baselines:run:41\u001b[0m\u001b[36m\u001b[0m | \u001b[48;2;46;204;113m\u001b[37m\u001b[1mNEG_DSD: time: 0.007285s, density: 17.778640\u001b[0m\u001b[48;2;46;204;113m\u001b[37m\u001b[0m\n",
      "\u001b[48;2;44;62;80m\u001b[37m\u001b[1m2025-10-15 17:04:09\u001b[0m\u001b[48;2;44;62;80m\u001b[37m\u001b[0m\u001b[48;2;44;62;80m\u001b[0m | \u001b[48;2;26;188;156m\u001b[37m\u001b[1mSUCCESS \u001b[0m\u001b[48;2;26;188;156m\u001b[37m\u001b[0m | \u001b[36m\u001b[1msrc.baselines:run:42\u001b[0m\u001b[36m\u001b[0m | \u001b[48;2;26;188;156m\u001b[37m\u001b[1mAll done!\u001b[0m\u001b[48;2;26;188;156m\u001b[37m\u001b[0m\n"
     ]
    }
   ],
   "source": [
    "with open('./config.json') as f:\n",
    "    run(json.load(f)['performance'])"
   ]
  },
  {
   "cell_type": "code",
   "execution_count": null,
   "id": "67bea05e",
   "metadata": {},
   "outputs": [],
   "source": []
  },
  {
   "cell_type": "markdown",
   "id": "8b022671",
   "metadata": {},
   "source": [
    "# Figures"
   ]
  },
  {
   "cell_type": "markdown",
   "id": "9a23a785",
   "metadata": {},
   "source": [
    "## Scalibility"
   ]
  },
  {
   "cell_type": "code",
   "execution_count": 3,
   "id": "e360d57f",
   "metadata": {},
   "outputs": [],
   "source": [
    "# scalibility(run=False, save_path=f'output/figs-theta=0/scalibility/scalibility.pdf')"
   ]
  }
 ],
 "metadata": {
  "kernelspec": {
   "display_name": "NDS (3.13.8)",
   "language": "python",
   "name": "python3"
  },
  "language_info": {
   "codemirror_mode": {
    "name": "ipython",
    "version": 3
   },
   "file_extension": ".py",
   "mimetype": "text/x-python",
   "name": "python",
   "nbconvert_exporter": "python",
   "pygments_lexer": "ipython3",
   "version": "3.13.8"
  }
 },
 "nbformat": 4,
 "nbformat_minor": 5
}
