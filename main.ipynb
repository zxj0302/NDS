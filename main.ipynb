{
 "cells": [
  {
   "cell_type": "code",
   "execution_count": 1,
   "id": "initial_id",
   "metadata": {
    "ExecuteTime": {
     "end_time": "2025-03-20T09:12:50.458203Z",
     "start_time": "2025-03-20T09:12:43.272883Z"
    },
    "collapsed": true
   },
   "outputs": [
    {
     "name": "stderr",
     "output_type": "stream",
     "text": [
      "\u001b[48;2;44;62;80m\u001b[37m\u001b[1m2025-10-15 11:01:20\u001b[0m\u001b[48;2;44;62;80m\u001b[37m\u001b[0m\u001b[48;2;44;62;80m\u001b[0m | \u001b[48;2;46;204;113m\u001b[37m\u001b[1mINFO    \u001b[0m\u001b[48;2;46;204;113m\u001b[37m\u001b[0m | \u001b[36m\u001b[1msrc:set_logger:61\u001b[0m\u001b[36m\u001b[0m | \u001b[48;2;46;204;113m\u001b[37m\u001b[1mLogger configured successfully\u001b[0m\u001b[48;2;46;204;113m\u001b[37m\u001b[0m\n"
     ]
    }
   ],
   "source": [
    "%load_ext autoreload\n",
    "%autoreload 2\n",
    "from src import *\n",
    "from loguru import logger"
   ]
  },
  {
   "cell_type": "code",
   "execution_count": 6,
   "id": "198b0dd65c670c5e",
   "metadata": {
    "ExecuteTime": {
     "end_time": "2025-03-21T03:22:48.543279Z",
     "start_time": "2025-03-21T03:22:48.537029Z"
    },
    "collapsed": false
   },
   "outputs": [
    {
     "name": "stderr",
     "output_type": "stream",
     "text": [
      "\u001b[48;2;44;62;80m\u001b[37m\u001b[1m2025-10-15 11:15:14\u001b[0m\u001b[48;2;44;62;80m\u001b[37m\u001b[0m\u001b[48;2;44;62;80m\u001b[0m | \u001b[48;2;46;204;113m\u001b[37m\u001b[1mINFO    \u001b[0m\u001b[48;2;46;204;113m\u001b[37m\u001b[0m | \u001b[36m\u001b[1msrc.baselines:run:6\u001b[0m\u001b[36m\u001b[0m | \u001b[48;2;46;204;113m\u001b[37m\u001b[1mRunning on dataset: /Users/zxj/Desktop/NDS/input/Abortion/Abortion.txt\u001b[0m\u001b[48;2;46;204;113m\u001b[37m\u001b[0m\n",
      "\u001b[48;2;44;62;80m\u001b[37m\u001b[1m2025-10-15 11:15:14\u001b[0m\u001b[48;2;44;62;80m\u001b[37m\u001b[0m\u001b[48;2;44;62;80m\u001b[0m | \u001b[48;2;46;204;113m\u001b[37m\u001b[1mINFO    \u001b[0m\u001b[48;2;46;204;113m\u001b[37m\u001b[0m | \u001b[36m\u001b[1msrc.baselines:run:18\u001b[0m\u001b[36m\u001b[0m | \u001b[48;2;46;204;113m\u001b[37m\u001b[1mNDS: time: 0.0072s, density: 2.036384\u001b[0m\u001b[48;2;46;204;113m\u001b[37m\u001b[0m\n",
      "\u001b[48;2;44;62;80m\u001b[37m\u001b[1m2025-10-15 11:15:14\u001b[0m\u001b[48;2;44;62;80m\u001b[37m\u001b[0m\u001b[48;2;44;62;80m\u001b[0m | \u001b[48;2;46;204;113m\u001b[37m\u001b[1mINFO    \u001b[0m\u001b[48;2;46;204;113m\u001b[37m\u001b[0m | \u001b[36m\u001b[1msrc.baselines:run:18\u001b[0m\u001b[36m\u001b[0m | \u001b[48;2;46;204;113m\u001b[37m\u001b[1mNDS: time: 0.0072s, density: 2.036384\u001b[0m\u001b[48;2;46;204;113m\u001b[37m\u001b[0m\n",
      "\u001b[48;2;44;62;80m\u001b[37m\u001b[1m2025-10-15 11:15:14\u001b[0m\u001b[48;2;44;62;80m\u001b[37m\u001b[0m\u001b[48;2;44;62;80m\u001b[0m | \u001b[48;2;46;204;113m\u001b[37m\u001b[1mINFO    \u001b[0m\u001b[48;2;46;204;113m\u001b[37m\u001b[0m | \u001b[36m\u001b[1msrc.baselines:run:18\u001b[0m\u001b[36m\u001b[0m | \u001b[48;2;46;204;113m\u001b[37m\u001b[1mNEG_DSD: time: 0.0013s, density: 2.022759\u001b[0m\u001b[48;2;46;204;113m\u001b[37m\u001b[0m\n",
      "\u001b[48;2;44;62;80m\u001b[37m\u001b[1m2025-10-15 11:15:14\u001b[0m\u001b[48;2;44;62;80m\u001b[37m\u001b[0m\u001b[48;2;44;62;80m\u001b[0m | \u001b[48;2;46;204;113m\u001b[37m\u001b[1mINFO    \u001b[0m\u001b[48;2;46;204;113m\u001b[37m\u001b[0m | \u001b[36m\u001b[1msrc.baselines:run:6\u001b[0m\u001b[36m\u001b[0m | \u001b[48;2;46;204;113m\u001b[37m\u001b[1mRunning on dataset: /Users/zxj/Desktop/NDS/input/Biogrid/Biogrid.txt\u001b[0m\u001b[48;2;46;204;113m\u001b[37m\u001b[0m\n",
      "\u001b[48;2;44;62;80m\u001b[37m\u001b[1m2025-10-15 11:15:14\u001b[0m\u001b[48;2;44;62;80m\u001b[37m\u001b[0m\u001b[48;2;44;62;80m\u001b[0m | \u001b[48;2;46;204;113m\u001b[37m\u001b[1mINFO    \u001b[0m\u001b[48;2;46;204;113m\u001b[37m\u001b[0m | \u001b[36m\u001b[1msrc.baselines:run:18\u001b[0m\u001b[36m\u001b[0m | \u001b[48;2;46;204;113m\u001b[37m\u001b[1mNEG_DSD: time: 0.0013s, density: 2.022759\u001b[0m\u001b[48;2;46;204;113m\u001b[37m\u001b[0m\n",
      "\u001b[48;2;44;62;80m\u001b[37m\u001b[1m2025-10-15 11:15:14\u001b[0m\u001b[48;2;44;62;80m\u001b[37m\u001b[0m\u001b[48;2;44;62;80m\u001b[0m | \u001b[48;2;46;204;113m\u001b[37m\u001b[1mINFO    \u001b[0m\u001b[48;2;46;204;113m\u001b[37m\u001b[0m | \u001b[36m\u001b[1msrc.baselines:run:6\u001b[0m\u001b[36m\u001b[0m | \u001b[48;2;46;204;113m\u001b[37m\u001b[1mRunning on dataset: /Users/zxj/Desktop/NDS/input/Biogrid/Biogrid.txt\u001b[0m\u001b[48;2;46;204;113m\u001b[37m\u001b[0m\n",
      "\u001b[48;2;44;62;80m\u001b[37m\u001b[1m2025-10-15 11:15:14\u001b[0m\u001b[48;2;44;62;80m\u001b[37m\u001b[0m\u001b[48;2;44;62;80m\u001b[0m | \u001b[48;2;46;204;113m\u001b[37m\u001b[1mINFO    \u001b[0m\u001b[48;2;46;204;113m\u001b[37m\u001b[0m | \u001b[36m\u001b[1msrc.baselines:run:18\u001b[0m\u001b[36m\u001b[0m | \u001b[48;2;46;204;113m\u001b[37m\u001b[1mNDS: time: 0.0049s, density: 49.204676\u001b[0m\u001b[48;2;46;204;113m\u001b[37m\u001b[0m\n",
      "\u001b[48;2;44;62;80m\u001b[37m\u001b[1m2025-10-15 11:15:14\u001b[0m\u001b[48;2;44;62;80m\u001b[37m\u001b[0m\u001b[48;2;44;62;80m\u001b[0m | \u001b[48;2;46;204;113m\u001b[37m\u001b[1mINFO    \u001b[0m\u001b[48;2;46;204;113m\u001b[37m\u001b[0m | \u001b[36m\u001b[1msrc.baselines:run:18\u001b[0m\u001b[36m\u001b[0m | \u001b[48;2;46;204;113m\u001b[37m\u001b[1mNDS: time: 0.0049s, density: 49.204676\u001b[0m\u001b[48;2;46;204;113m\u001b[37m\u001b[0m\n",
      "\u001b[48;2;44;62;80m\u001b[37m\u001b[1m2025-10-15 11:15:14\u001b[0m\u001b[48;2;44;62;80m\u001b[37m\u001b[0m\u001b[48;2;44;62;80m\u001b[0m | \u001b[48;2;46;204;113m\u001b[37m\u001b[1mINFO    \u001b[0m\u001b[48;2;46;204;113m\u001b[37m\u001b[0m | \u001b[36m\u001b[1msrc.baselines:run:18\u001b[0m\u001b[36m\u001b[0m | \u001b[48;2;46;204;113m\u001b[37m\u001b[1mNEG_DSD: time: 0.0063s, density: 49.204676\u001b[0m\u001b[48;2;46;204;113m\u001b[37m\u001b[0m\n",
      "\u001b[48;2;44;62;80m\u001b[37m\u001b[1m2025-10-15 11:15:14\u001b[0m\u001b[48;2;44;62;80m\u001b[37m\u001b[0m\u001b[48;2;44;62;80m\u001b[0m | \u001b[48;2;46;204;113m\u001b[37m\u001b[1mINFO    \u001b[0m\u001b[48;2;46;204;113m\u001b[37m\u001b[0m | \u001b[36m\u001b[1msrc.baselines:run:6\u001b[0m\u001b[36m\u001b[0m | \u001b[48;2;46;204;113m\u001b[37m\u001b[1mRunning on dataset: /Users/zxj/Desktop/NDS/input/Brexit/Brexit.txt\u001b[0m\u001b[48;2;46;204;113m\u001b[37m\u001b[0m\n",
      "\u001b[48;2;44;62;80m\u001b[37m\u001b[1m2025-10-15 11:15:14\u001b[0m\u001b[48;2;44;62;80m\u001b[37m\u001b[0m\u001b[48;2;44;62;80m\u001b[0m | \u001b[48;2;46;204;113m\u001b[37m\u001b[1mINFO    \u001b[0m\u001b[48;2;46;204;113m\u001b[37m\u001b[0m | \u001b[36m\u001b[1msrc.baselines:run:18\u001b[0m\u001b[36m\u001b[0m | \u001b[48;2;46;204;113m\u001b[37m\u001b[1mNEG_DSD: time: 0.0063s, density: 49.204676\u001b[0m\u001b[48;2;46;204;113m\u001b[37m\u001b[0m\n",
      "\u001b[48;2;44;62;80m\u001b[37m\u001b[1m2025-10-15 11:15:14\u001b[0m\u001b[48;2;44;62;80m\u001b[37m\u001b[0m\u001b[48;2;44;62;80m\u001b[0m | \u001b[48;2;46;204;113m\u001b[37m\u001b[1mINFO    \u001b[0m\u001b[48;2;46;204;113m\u001b[37m\u001b[0m | \u001b[36m\u001b[1msrc.baselines:run:6\u001b[0m\u001b[36m\u001b[0m | \u001b[48;2;46;204;113m\u001b[37m\u001b[1mRunning on dataset: /Users/zxj/Desktop/NDS/input/Brexit/Brexit.txt\u001b[0m\u001b[48;2;46;204;113m\u001b[37m\u001b[0m\n"
     ]
    },
    {
     "name": "stdout",
     "output_type": "stream",
     "text": [
      "Results written to /Users/zxj/Desktop/NDS/output/Abortion/Abortion_NDS.json\n",
      "Results written to /Users/zxj/Desktop/NDS/output/Abortion/Abortion_NEG_DSD.json\n",
      "Results written to /Users/zxj/Desktop/NDS/output/Biogrid/Biogrid_NDS.json\n",
      "Results written to /Users/zxj/Desktop/NDS/output/Biogrid/Biogrid_NEG_DSD.json\n"
     ]
    },
    {
     "name": "stderr",
     "output_type": "stream",
     "text": [
      "\u001b[48;2;44;62;80m\u001b[37m\u001b[1m2025-10-15 11:15:15\u001b[0m\u001b[48;2;44;62;80m\u001b[37m\u001b[0m\u001b[48;2;44;62;80m\u001b[0m | \u001b[48;2;46;204;113m\u001b[37m\u001b[1mINFO    \u001b[0m\u001b[48;2;46;204;113m\u001b[37m\u001b[0m | \u001b[36m\u001b[1msrc.baselines:run:18\u001b[0m\u001b[36m\u001b[0m | \u001b[48;2;46;204;113m\u001b[37m\u001b[1mNDS: time: 0.0540s, density: 27.935748\u001b[0m\u001b[48;2;46;204;113m\u001b[37m\u001b[0m\n",
      "\u001b[48;2;44;62;80m\u001b[37m\u001b[1m2025-10-15 11:15:15\u001b[0m\u001b[48;2;44;62;80m\u001b[37m\u001b[0m\u001b[48;2;44;62;80m\u001b[0m | \u001b[48;2;46;204;113m\u001b[37m\u001b[1mINFO    \u001b[0m\u001b[48;2;46;204;113m\u001b[37m\u001b[0m | \u001b[36m\u001b[1msrc.baselines:run:18\u001b[0m\u001b[36m\u001b[0m | \u001b[48;2;46;204;113m\u001b[37m\u001b[1mNEG_DSD: time: 0.0058s, density: 27.934943\u001b[0m\u001b[48;2;46;204;113m\u001b[37m\u001b[0m\n",
      "\u001b[48;2;44;62;80m\u001b[37m\u001b[1m2025-10-15 11:15:15\u001b[0m\u001b[48;2;44;62;80m\u001b[37m\u001b[0m\u001b[48;2;44;62;80m\u001b[0m | \u001b[48;2;46;204;113m\u001b[37m\u001b[1mINFO    \u001b[0m\u001b[48;2;46;204;113m\u001b[37m\u001b[0m | \u001b[36m\u001b[1msrc.baselines:run:6\u001b[0m\u001b[36m\u001b[0m | \u001b[48;2;46;204;113m\u001b[37m\u001b[1mRunning on dataset: /Users/zxj/Desktop/NDS/input/Collins/Collins.txt\u001b[0m\u001b[48;2;46;204;113m\u001b[37m\u001b[0m\n",
      "\u001b[48;2;44;62;80m\u001b[37m\u001b[1m2025-10-15 11:15:15\u001b[0m\u001b[48;2;44;62;80m\u001b[37m\u001b[0m\u001b[48;2;44;62;80m\u001b[0m | \u001b[48;2;46;204;113m\u001b[37m\u001b[1mINFO    \u001b[0m\u001b[48;2;46;204;113m\u001b[37m\u001b[0m | \u001b[36m\u001b[1msrc.baselines:run:18\u001b[0m\u001b[36m\u001b[0m | \u001b[48;2;46;204;113m\u001b[37m\u001b[1mNEG_DSD: time: 0.0058s, density: 27.934943\u001b[0m\u001b[48;2;46;204;113m\u001b[37m\u001b[0m\n",
      "\u001b[48;2;44;62;80m\u001b[37m\u001b[1m2025-10-15 11:15:15\u001b[0m\u001b[48;2;44;62;80m\u001b[37m\u001b[0m\u001b[48;2;44;62;80m\u001b[0m | \u001b[48;2;46;204;113m\u001b[37m\u001b[1mINFO    \u001b[0m\u001b[48;2;46;204;113m\u001b[37m\u001b[0m | \u001b[36m\u001b[1msrc.baselines:run:6\u001b[0m\u001b[36m\u001b[0m | \u001b[48;2;46;204;113m\u001b[37m\u001b[1mRunning on dataset: /Users/zxj/Desktop/NDS/input/Collins/Collins.txt\u001b[0m\u001b[48;2;46;204;113m\u001b[37m\u001b[0m\n",
      "\u001b[48;2;44;62;80m\u001b[37m\u001b[1m2025-10-15 11:15:15\u001b[0m\u001b[48;2;44;62;80m\u001b[37m\u001b[0m\u001b[48;2;44;62;80m\u001b[0m | \u001b[48;2;46;204;113m\u001b[37m\u001b[1mINFO    \u001b[0m\u001b[48;2;46;204;113m\u001b[37m\u001b[0m | \u001b[36m\u001b[1msrc.baselines:run:18\u001b[0m\u001b[36m\u001b[0m | \u001b[48;2;46;204;113m\u001b[37m\u001b[1mNDS: time: 0.0006s, density: 9.313656\u001b[0m\u001b[48;2;46;204;113m\u001b[37m\u001b[0m\n",
      "\u001b[48;2;44;62;80m\u001b[37m\u001b[1m2025-10-15 11:15:15\u001b[0m\u001b[48;2;44;62;80m\u001b[37m\u001b[0m\u001b[48;2;44;62;80m\u001b[0m | \u001b[48;2;46;204;113m\u001b[37m\u001b[1mINFO    \u001b[0m\u001b[48;2;46;204;113m\u001b[37m\u001b[0m | \u001b[36m\u001b[1msrc.baselines:run:18\u001b[0m\u001b[36m\u001b[0m | \u001b[48;2;46;204;113m\u001b[37m\u001b[1mNEG_DSD: time: 0.0010s, density: 7.533520\u001b[0m\u001b[48;2;46;204;113m\u001b[37m\u001b[0m\n",
      "\u001b[48;2;44;62;80m\u001b[37m\u001b[1m2025-10-15 11:15:15\u001b[0m\u001b[48;2;44;62;80m\u001b[37m\u001b[0m\u001b[48;2;44;62;80m\u001b[0m | \u001b[48;2;46;204;113m\u001b[37m\u001b[1mINFO    \u001b[0m\u001b[48;2;46;204;113m\u001b[37m\u001b[0m | \u001b[36m\u001b[1msrc.baselines:run:18\u001b[0m\u001b[36m\u001b[0m | \u001b[48;2;46;204;113m\u001b[37m\u001b[1mNDS: time: 0.0006s, density: 9.313656\u001b[0m\u001b[48;2;46;204;113m\u001b[37m\u001b[0m\n",
      "\u001b[48;2;44;62;80m\u001b[37m\u001b[1m2025-10-15 11:15:15\u001b[0m\u001b[48;2;44;62;80m\u001b[37m\u001b[0m\u001b[48;2;44;62;80m\u001b[0m | \u001b[48;2;46;204;113m\u001b[37m\u001b[1mINFO    \u001b[0m\u001b[48;2;46;204;113m\u001b[37m\u001b[0m | \u001b[36m\u001b[1msrc.baselines:run:18\u001b[0m\u001b[36m\u001b[0m | \u001b[48;2;46;204;113m\u001b[37m\u001b[1mNEG_DSD: time: 0.0010s, density: 7.533520\u001b[0m\u001b[48;2;46;204;113m\u001b[37m\u001b[0m\n",
      "\u001b[48;2;44;62;80m\u001b[37m\u001b[1m2025-10-15 11:15:15\u001b[0m\u001b[48;2;44;62;80m\u001b[37m\u001b[0m\u001b[48;2;44;62;80m\u001b[0m | \u001b[48;2;46;204;113m\u001b[37m\u001b[1mINFO    \u001b[0m\u001b[48;2;46;204;113m\u001b[37m\u001b[0m | \u001b[36m\u001b[1msrc.baselines:run:6\u001b[0m\u001b[36m\u001b[0m | \u001b[48;2;46;204;113m\u001b[37m\u001b[1mRunning on dataset: /Users/zxj/Desktop/NDS/input/Election/Election.txt\u001b[0m\u001b[48;2;46;204;113m\u001b[37m\u001b[0m\n",
      "\u001b[48;2;44;62;80m\u001b[37m\u001b[1m2025-10-15 11:15:15\u001b[0m\u001b[48;2;44;62;80m\u001b[37m\u001b[0m\u001b[48;2;44;62;80m\u001b[0m | \u001b[48;2;46;204;113m\u001b[37m\u001b[1mINFO    \u001b[0m\u001b[48;2;46;204;113m\u001b[37m\u001b[0m | \u001b[36m\u001b[1msrc.baselines:run:6\u001b[0m\u001b[36m\u001b[0m | \u001b[48;2;46;204;113m\u001b[37m\u001b[1mRunning on dataset: /Users/zxj/Desktop/NDS/input/Election/Election.txt\u001b[0m\u001b[48;2;46;204;113m\u001b[37m\u001b[0m\n"
     ]
    },
    {
     "name": "stdout",
     "output_type": "stream",
     "text": [
      "Results written to /Users/zxj/Desktop/NDS/output/Brexit/Brexit_NDS.json\n",
      "Results written to /Users/zxj/Desktop/NDS/output/Brexit/Brexit_NEG_DSD.json\n",
      "Results written to /Users/zxj/Desktop/NDS/output/Collins/Collins_NDS.json\n",
      "Results written to /Users/zxj/Desktop/NDS/output/Collins/Collins_NEG_DSD.json\n"
     ]
    },
    {
     "name": "stderr",
     "output_type": "stream",
     "text": [
      "\u001b[48;2;44;62;80m\u001b[37m\u001b[1m2025-10-15 11:15:15\u001b[0m\u001b[48;2;44;62;80m\u001b[37m\u001b[0m\u001b[48;2;44;62;80m\u001b[0m | \u001b[48;2;46;204;113m\u001b[37m\u001b[1mINFO    \u001b[0m\u001b[48;2;46;204;113m\u001b[37m\u001b[0m | \u001b[36m\u001b[1msrc.baselines:run:18\u001b[0m\u001b[36m\u001b[0m | \u001b[48;2;46;204;113m\u001b[37m\u001b[1mNDS: time: 0.0204s, density: 7.171434\u001b[0m\u001b[48;2;46;204;113m\u001b[37m\u001b[0m\n",
      "\u001b[48;2;44;62;80m\u001b[37m\u001b[1m2025-10-15 11:15:15\u001b[0m\u001b[48;2;44;62;80m\u001b[37m\u001b[0m\u001b[48;2;44;62;80m\u001b[0m | \u001b[48;2;46;204;113m\u001b[37m\u001b[1mINFO    \u001b[0m\u001b[48;2;46;204;113m\u001b[37m\u001b[0m | \u001b[36m\u001b[1msrc.baselines:run:18\u001b[0m\u001b[36m\u001b[0m | \u001b[48;2;46;204;113m\u001b[37m\u001b[1mNEG_DSD: time: 0.0067s, density: 7.171104\u001b[0m\u001b[48;2;46;204;113m\u001b[37m\u001b[0m\n",
      "\u001b[48;2;44;62;80m\u001b[37m\u001b[1m2025-10-15 11:15:15\u001b[0m\u001b[48;2;44;62;80m\u001b[37m\u001b[0m\u001b[48;2;44;62;80m\u001b[0m | \u001b[48;2;46;204;113m\u001b[37m\u001b[1mINFO    \u001b[0m\u001b[48;2;46;204;113m\u001b[37m\u001b[0m | \u001b[36m\u001b[1msrc.baselines:run:6\u001b[0m\u001b[36m\u001b[0m | \u001b[48;2;46;204;113m\u001b[37m\u001b[1mRunning on dataset: /Users/zxj/Desktop/NDS/input/Gavin/Gavin.txt\u001b[0m\u001b[48;2;46;204;113m\u001b[37m\u001b[0m\n",
      "\u001b[48;2;44;62;80m\u001b[37m\u001b[1m2025-10-15 11:15:15\u001b[0m\u001b[48;2;44;62;80m\u001b[37m\u001b[0m\u001b[48;2;44;62;80m\u001b[0m | \u001b[48;2;46;204;113m\u001b[37m\u001b[1mINFO    \u001b[0m\u001b[48;2;46;204;113m\u001b[37m\u001b[0m | \u001b[36m\u001b[1msrc.baselines:run:18\u001b[0m\u001b[36m\u001b[0m | \u001b[48;2;46;204;113m\u001b[37m\u001b[1mNEG_DSD: time: 0.0067s, density: 7.171104\u001b[0m\u001b[48;2;46;204;113m\u001b[37m\u001b[0m\n",
      "\u001b[48;2;44;62;80m\u001b[37m\u001b[1m2025-10-15 11:15:15\u001b[0m\u001b[48;2;44;62;80m\u001b[37m\u001b[0m\u001b[48;2;44;62;80m\u001b[0m | \u001b[48;2;46;204;113m\u001b[37m\u001b[1mINFO    \u001b[0m\u001b[48;2;46;204;113m\u001b[37m\u001b[0m | \u001b[36m\u001b[1msrc.baselines:run:6\u001b[0m\u001b[36m\u001b[0m | \u001b[48;2;46;204;113m\u001b[37m\u001b[1mRunning on dataset: /Users/zxj/Desktop/NDS/input/Gavin/Gavin.txt\u001b[0m\u001b[48;2;46;204;113m\u001b[37m\u001b[0m\n",
      "\u001b[48;2;44;62;80m\u001b[37m\u001b[1m2025-10-15 11:15:15\u001b[0m\u001b[48;2;44;62;80m\u001b[37m\u001b[0m\u001b[48;2;44;62;80m\u001b[0m | \u001b[48;2;46;204;113m\u001b[37m\u001b[1mINFO    \u001b[0m\u001b[48;2;46;204;113m\u001b[37m\u001b[0m | \u001b[36m\u001b[1msrc.baselines:run:18\u001b[0m\u001b[36m\u001b[0m | \u001b[48;2;46;204;113m\u001b[37m\u001b[1mNDS: time: 0.0006s, density: 11.899082\u001b[0m\u001b[48;2;46;204;113m\u001b[37m\u001b[0m\n",
      "\u001b[48;2;44;62;80m\u001b[37m\u001b[1m2025-10-15 11:15:15\u001b[0m\u001b[48;2;44;62;80m\u001b[37m\u001b[0m\u001b[48;2;44;62;80m\u001b[0m | \u001b[48;2;46;204;113m\u001b[37m\u001b[1mINFO    \u001b[0m\u001b[48;2;46;204;113m\u001b[37m\u001b[0m | \u001b[36m\u001b[1msrc.baselines:run:18\u001b[0m\u001b[36m\u001b[0m | \u001b[48;2;46;204;113m\u001b[37m\u001b[1mNEG_DSD: time: 0.0010s, density: 11.899082\u001b[0m\u001b[48;2;46;204;113m\u001b[37m\u001b[0m\n",
      "\u001b[48;2;44;62;80m\u001b[37m\u001b[1m2025-10-15 11:15:15\u001b[0m\u001b[48;2;44;62;80m\u001b[37m\u001b[0m\u001b[48;2;44;62;80m\u001b[0m | \u001b[48;2;46;204;113m\u001b[37m\u001b[1mINFO    \u001b[0m\u001b[48;2;46;204;113m\u001b[37m\u001b[0m | \u001b[36m\u001b[1msrc.baselines:run:6\u001b[0m\u001b[36m\u001b[0m | \u001b[48;2;46;204;113m\u001b[37m\u001b[1mRunning on dataset: /Users/zxj/Desktop/NDS/input/Gun/Gun.txt\u001b[0m\u001b[48;2;46;204;113m\u001b[37m\u001b[0m\n",
      "\u001b[48;2;44;62;80m\u001b[37m\u001b[1m2025-10-15 11:15:15\u001b[0m\u001b[48;2;44;62;80m\u001b[37m\u001b[0m\u001b[48;2;44;62;80m\u001b[0m | \u001b[48;2;46;204;113m\u001b[37m\u001b[1mINFO    \u001b[0m\u001b[48;2;46;204;113m\u001b[37m\u001b[0m | \u001b[36m\u001b[1msrc.baselines:run:18\u001b[0m\u001b[36m\u001b[0m | \u001b[48;2;46;204;113m\u001b[37m\u001b[1mNDS: time: 0.0006s, density: 11.899082\u001b[0m\u001b[48;2;46;204;113m\u001b[37m\u001b[0m\n",
      "\u001b[48;2;44;62;80m\u001b[37m\u001b[1m2025-10-15 11:15:15\u001b[0m\u001b[48;2;44;62;80m\u001b[37m\u001b[0m\u001b[48;2;44;62;80m\u001b[0m | \u001b[48;2;46;204;113m\u001b[37m\u001b[1mINFO    \u001b[0m\u001b[48;2;46;204;113m\u001b[37m\u001b[0m | \u001b[36m\u001b[1msrc.baselines:run:18\u001b[0m\u001b[36m\u001b[0m | \u001b[48;2;46;204;113m\u001b[37m\u001b[1mNEG_DSD: time: 0.0010s, density: 11.899082\u001b[0m\u001b[48;2;46;204;113m\u001b[37m\u001b[0m\n",
      "\u001b[48;2;44;62;80m\u001b[37m\u001b[1m2025-10-15 11:15:15\u001b[0m\u001b[48;2;44;62;80m\u001b[37m\u001b[0m\u001b[48;2;44;62;80m\u001b[0m | \u001b[48;2;46;204;113m\u001b[37m\u001b[1mINFO    \u001b[0m\u001b[48;2;46;204;113m\u001b[37m\u001b[0m | \u001b[36m\u001b[1msrc.baselines:run:6\u001b[0m\u001b[36m\u001b[0m | \u001b[48;2;46;204;113m\u001b[37m\u001b[1mRunning on dataset: /Users/zxj/Desktop/NDS/input/Gun/Gun.txt\u001b[0m\u001b[48;2;46;204;113m\u001b[37m\u001b[0m\n",
      "\u001b[48;2;44;62;80m\u001b[37m\u001b[1m2025-10-15 11:15:15\u001b[0m\u001b[48;2;44;62;80m\u001b[37m\u001b[0m\u001b[48;2;44;62;80m\u001b[0m | \u001b[48;2;46;204;113m\u001b[37m\u001b[1mINFO    \u001b[0m\u001b[48;2;46;204;113m\u001b[37m\u001b[0m | \u001b[36m\u001b[1msrc.baselines:run:18\u001b[0m\u001b[36m\u001b[0m | \u001b[48;2;46;204;113m\u001b[37m\u001b[1mNDS: time: 0.0050s, density: 2.048376\u001b[0m\u001b[48;2;46;204;113m\u001b[37m\u001b[0m\n",
      "\u001b[48;2;44;62;80m\u001b[37m\u001b[1m2025-10-15 11:15:15\u001b[0m\u001b[48;2;44;62;80m\u001b[37m\u001b[0m\u001b[48;2;44;62;80m\u001b[0m | \u001b[48;2;46;204;113m\u001b[37m\u001b[1mINFO    \u001b[0m\u001b[48;2;46;204;113m\u001b[37m\u001b[0m | \u001b[36m\u001b[1msrc.baselines:run:18\u001b[0m\u001b[36m\u001b[0m | \u001b[48;2;46;204;113m\u001b[37m\u001b[1mNDS: time: 0.0050s, density: 2.048376\u001b[0m\u001b[48;2;46;204;113m\u001b[37m\u001b[0m\n",
      "\u001b[48;2;44;62;80m\u001b[37m\u001b[1m2025-10-15 11:15:15\u001b[0m\u001b[48;2;44;62;80m\u001b[37m\u001b[0m\u001b[48;2;44;62;80m\u001b[0m | \u001b[48;2;46;204;113m\u001b[37m\u001b[1mINFO    \u001b[0m\u001b[48;2;46;204;113m\u001b[37m\u001b[0m | \u001b[36m\u001b[1msrc.baselines:run:18\u001b[0m\u001b[36m\u001b[0m | \u001b[48;2;46;204;113m\u001b[37m\u001b[1mNEG_DSD: time: 0.0020s, density: 2.454160\u001b[0m\u001b[48;2;46;204;113m\u001b[37m\u001b[0m\n",
      "\u001b[48;2;44;62;80m\u001b[37m\u001b[1m2025-10-15 11:15:15\u001b[0m\u001b[48;2;44;62;80m\u001b[37m\u001b[0m\u001b[48;2;44;62;80m\u001b[0m | \u001b[48;2;46;204;113m\u001b[37m\u001b[1mINFO    \u001b[0m\u001b[48;2;46;204;113m\u001b[37m\u001b[0m | \u001b[36m\u001b[1msrc.baselines:run:6\u001b[0m\u001b[36m\u001b[0m | \u001b[48;2;46;204;113m\u001b[37m\u001b[1mRunning on dataset: /Users/zxj/Desktop/NDS/input/Krogan-Core/Krogan-Core.txt\u001b[0m\u001b[48;2;46;204;113m\u001b[37m\u001b[0m\n",
      "\u001b[48;2;44;62;80m\u001b[37m\u001b[1m2025-10-15 11:15:15\u001b[0m\u001b[48;2;44;62;80m\u001b[37m\u001b[0m\u001b[48;2;44;62;80m\u001b[0m | \u001b[48;2;46;204;113m\u001b[37m\u001b[1mINFO    \u001b[0m\u001b[48;2;46;204;113m\u001b[37m\u001b[0m | \u001b[36m\u001b[1msrc.baselines:run:18\u001b[0m\u001b[36m\u001b[0m | \u001b[48;2;46;204;113m\u001b[37m\u001b[1mNEG_DSD: time: 0.0020s, density: 2.454160\u001b[0m\u001b[48;2;46;204;113m\u001b[37m\u001b[0m\n",
      "\u001b[48;2;44;62;80m\u001b[37m\u001b[1m2025-10-15 11:15:15\u001b[0m\u001b[48;2;44;62;80m\u001b[37m\u001b[0m\u001b[48;2;44;62;80m\u001b[0m | \u001b[48;2;46;204;113m\u001b[37m\u001b[1mINFO    \u001b[0m\u001b[48;2;46;204;113m\u001b[37m\u001b[0m | \u001b[36m\u001b[1msrc.baselines:run:6\u001b[0m\u001b[36m\u001b[0m | \u001b[48;2;46;204;113m\u001b[37m\u001b[1mRunning on dataset: /Users/zxj/Desktop/NDS/input/Krogan-Core/Krogan-Core.txt\u001b[0m\u001b[48;2;46;204;113m\u001b[37m\u001b[0m\n",
      "\u001b[48;2;44;62;80m\u001b[37m\u001b[1m2025-10-15 11:15:15\u001b[0m\u001b[48;2;44;62;80m\u001b[37m\u001b[0m\u001b[48;2;44;62;80m\u001b[0m | \u001b[48;2;46;204;113m\u001b[37m\u001b[1mINFO    \u001b[0m\u001b[48;2;46;204;113m\u001b[37m\u001b[0m | \u001b[36m\u001b[1msrc.baselines:run:18\u001b[0m\u001b[36m\u001b[0m | \u001b[48;2;46;204;113m\u001b[37m\u001b[1mNDS: time: 0.0006s, density: 6.751519\u001b[0m\u001b[48;2;46;204;113m\u001b[37m\u001b[0m\n",
      "\u001b[48;2;44;62;80m\u001b[37m\u001b[1m2025-10-15 11:15:15\u001b[0m\u001b[48;2;44;62;80m\u001b[37m\u001b[0m\u001b[48;2;44;62;80m\u001b[0m | \u001b[48;2;46;204;113m\u001b[37m\u001b[1mINFO    \u001b[0m\u001b[48;2;46;204;113m\u001b[37m\u001b[0m | \u001b[36m\u001b[1msrc.baselines:run:18\u001b[0m\u001b[36m\u001b[0m | \u001b[48;2;46;204;113m\u001b[37m\u001b[1mNEG_DSD: time: 0.0011s, density: 5.247494\u001b[0m\u001b[48;2;46;204;113m\u001b[37m\u001b[0m\n",
      "\u001b[48;2;44;62;80m\u001b[37m\u001b[1m2025-10-15 11:15:15\u001b[0m\u001b[48;2;44;62;80m\u001b[37m\u001b[0m\u001b[48;2;44;62;80m\u001b[0m | \u001b[48;2;46;204;113m\u001b[37m\u001b[1mINFO    \u001b[0m\u001b[48;2;46;204;113m\u001b[37m\u001b[0m | \u001b[36m\u001b[1msrc.baselines:run:6\u001b[0m\u001b[36m\u001b[0m | \u001b[48;2;46;204;113m\u001b[37m\u001b[1mRunning on dataset: /Users/zxj/Desktop/NDS/input/Krogan-Extended/Krogan-Extended.txt\u001b[0m\u001b[48;2;46;204;113m\u001b[37m\u001b[0m\n",
      "\u001b[48;2;44;62;80m\u001b[37m\u001b[1m2025-10-15 11:15:15\u001b[0m\u001b[48;2;44;62;80m\u001b[37m\u001b[0m\u001b[48;2;44;62;80m\u001b[0m | \u001b[48;2;46;204;113m\u001b[37m\u001b[1mINFO    \u001b[0m\u001b[48;2;46;204;113m\u001b[37m\u001b[0m | \u001b[36m\u001b[1msrc.baselines:run:18\u001b[0m\u001b[36m\u001b[0m | \u001b[48;2;46;204;113m\u001b[37m\u001b[1mNDS: time: 0.0006s, density: 6.751519\u001b[0m\u001b[48;2;46;204;113m\u001b[37m\u001b[0m\n",
      "\u001b[48;2;44;62;80m\u001b[37m\u001b[1m2025-10-15 11:15:15\u001b[0m\u001b[48;2;44;62;80m\u001b[37m\u001b[0m\u001b[48;2;44;62;80m\u001b[0m | \u001b[48;2;46;204;113m\u001b[37m\u001b[1mINFO    \u001b[0m\u001b[48;2;46;204;113m\u001b[37m\u001b[0m | \u001b[36m\u001b[1msrc.baselines:run:18\u001b[0m\u001b[36m\u001b[0m | \u001b[48;2;46;204;113m\u001b[37m\u001b[1mNEG_DSD: time: 0.0011s, density: 5.247494\u001b[0m\u001b[48;2;46;204;113m\u001b[37m\u001b[0m\n",
      "\u001b[48;2;44;62;80m\u001b[37m\u001b[1m2025-10-15 11:15:15\u001b[0m\u001b[48;2;44;62;80m\u001b[37m\u001b[0m\u001b[48;2;44;62;80m\u001b[0m | \u001b[48;2;46;204;113m\u001b[37m\u001b[1mINFO    \u001b[0m\u001b[48;2;46;204;113m\u001b[37m\u001b[0m | \u001b[36m\u001b[1msrc.baselines:run:6\u001b[0m\u001b[36m\u001b[0m | \u001b[48;2;46;204;113m\u001b[37m\u001b[1mRunning on dataset: /Users/zxj/Desktop/NDS/input/Krogan-Extended/Krogan-Extended.txt\u001b[0m\u001b[48;2;46;204;113m\u001b[37m\u001b[0m\n"
     ]
    },
    {
     "name": "stdout",
     "output_type": "stream",
     "text": [
      "Results written to /Users/zxj/Desktop/NDS/output/Election/Election_NDS.json\n",
      "Results written to /Users/zxj/Desktop/NDS/output/Election/Election_NEG_DSD.json\n",
      "Results written to /Users/zxj/Desktop/NDS/output/Gavin/Gavin_NDS.json\n",
      "Results written to /Users/zxj/Desktop/NDS/output/Gavin/Gavin_NEG_DSD.json\n",
      "Results written to /Users/zxj/Desktop/NDS/output/Gun/Gun_NDS.json\n",
      "Results written to /Users/zxj/Desktop/NDS/output/Gun/Gun_NEG_DSD.json\n",
      "Results written to /Users/zxj/Desktop/NDS/output/Krogan-Core/Krogan-Core_NDS.json\n",
      "Results written to /Users/zxj/Desktop/NDS/output/Krogan-Core/Krogan-Core_NEG_DSD.json\n"
     ]
    },
    {
     "name": "stderr",
     "output_type": "stream",
     "text": [
      "\u001b[48;2;44;62;80m\u001b[37m\u001b[1m2025-10-15 11:15:15\u001b[0m\u001b[48;2;44;62;80m\u001b[37m\u001b[0m\u001b[48;2;44;62;80m\u001b[0m | \u001b[48;2;46;204;113m\u001b[37m\u001b[1mINFO    \u001b[0m\u001b[48;2;46;204;113m\u001b[37m\u001b[0m | \u001b[36m\u001b[1msrc.baselines:run:18\u001b[0m\u001b[36m\u001b[0m | \u001b[48;2;46;204;113m\u001b[37m\u001b[1mNDS: time: 0.0010s, density: 15.818133\u001b[0m\u001b[48;2;46;204;113m\u001b[37m\u001b[0m\n",
      "\u001b[48;2;44;62;80m\u001b[37m\u001b[1m2025-10-15 11:15:15\u001b[0m\u001b[48;2;44;62;80m\u001b[37m\u001b[0m\u001b[48;2;44;62;80m\u001b[0m | \u001b[48;2;46;204;113m\u001b[37m\u001b[1mINFO    \u001b[0m\u001b[48;2;46;204;113m\u001b[37m\u001b[0m | \u001b[36m\u001b[1msrc.baselines:run:18\u001b[0m\u001b[36m\u001b[0m | \u001b[48;2;46;204;113m\u001b[37m\u001b[1mNEG_DSD: time: 0.0023s, density: 13.357644\u001b[0m\u001b[48;2;46;204;113m\u001b[37m\u001b[0m\n",
      "\u001b[48;2;44;62;80m\u001b[37m\u001b[1m2025-10-15 11:15:15\u001b[0m\u001b[48;2;44;62;80m\u001b[37m\u001b[0m\u001b[48;2;44;62;80m\u001b[0m | \u001b[48;2;46;204;113m\u001b[37m\u001b[1mINFO    \u001b[0m\u001b[48;2;46;204;113m\u001b[37m\u001b[0m | \u001b[36m\u001b[1msrc.baselines:run:6\u001b[0m\u001b[36m\u001b[0m | \u001b[48;2;46;204;113m\u001b[37m\u001b[1mRunning on dataset: /Users/zxj/Desktop/NDS/input/Partisanship/Partisanship.txt\u001b[0m\u001b[48;2;46;204;113m\u001b[37m\u001b[0m\n",
      "\u001b[48;2;44;62;80m\u001b[37m\u001b[1m2025-10-15 11:15:15\u001b[0m\u001b[48;2;44;62;80m\u001b[37m\u001b[0m\u001b[48;2;44;62;80m\u001b[0m | \u001b[48;2;46;204;113m\u001b[37m\u001b[1mINFO    \u001b[0m\u001b[48;2;46;204;113m\u001b[37m\u001b[0m | \u001b[36m\u001b[1msrc.baselines:run:18\u001b[0m\u001b[36m\u001b[0m | \u001b[48;2;46;204;113m\u001b[37m\u001b[1mNEG_DSD: time: 0.0023s, density: 13.357644\u001b[0m\u001b[48;2;46;204;113m\u001b[37m\u001b[0m\n",
      "\u001b[48;2;44;62;80m\u001b[37m\u001b[1m2025-10-15 11:15:15\u001b[0m\u001b[48;2;44;62;80m\u001b[37m\u001b[0m\u001b[48;2;44;62;80m\u001b[0m | \u001b[48;2;46;204;113m\u001b[37m\u001b[1mINFO    \u001b[0m\u001b[48;2;46;204;113m\u001b[37m\u001b[0m | \u001b[36m\u001b[1msrc.baselines:run:6\u001b[0m\u001b[36m\u001b[0m | \u001b[48;2;46;204;113m\u001b[37m\u001b[1mRunning on dataset: /Users/zxj/Desktop/NDS/input/Partisanship/Partisanship.txt\u001b[0m\u001b[48;2;46;204;113m\u001b[37m\u001b[0m\n"
     ]
    },
    {
     "name": "stdout",
     "output_type": "stream",
     "text": [
      "Results written to /Users/zxj/Desktop/NDS/output/Krogan-Extended/Krogan-Extended_NDS.json\n",
      "Results written to /Users/zxj/Desktop/NDS/output/Krogan-Extended/Krogan-Extended_NEG_DSD.json\n"
     ]
    },
    {
     "name": "stderr",
     "output_type": "stream",
     "text": [
      "\u001b[48;2;44;62;80m\u001b[37m\u001b[1m2025-10-15 11:15:16\u001b[0m\u001b[48;2;44;62;80m\u001b[37m\u001b[0m\u001b[48;2;44;62;80m\u001b[0m | \u001b[48;2;46;204;113m\u001b[37m\u001b[1mINFO    \u001b[0m\u001b[48;2;46;204;113m\u001b[37m\u001b[0m | \u001b[36m\u001b[1msrc.baselines:run:18\u001b[0m\u001b[36m\u001b[0m | \u001b[48;2;46;204;113m\u001b[37m\u001b[1mNDS: time: 0.0464s, density: 5.134694\u001b[0m\u001b[48;2;46;204;113m\u001b[37m\u001b[0m\n",
      "\u001b[48;2;44;62;80m\u001b[37m\u001b[1m2025-10-15 11:15:16\u001b[0m\u001b[48;2;44;62;80m\u001b[37m\u001b[0m\u001b[48;2;44;62;80m\u001b[0m | \u001b[48;2;46;204;113m\u001b[37m\u001b[1mINFO    \u001b[0m\u001b[48;2;46;204;113m\u001b[37m\u001b[0m | \u001b[36m\u001b[1msrc.baselines:run:18\u001b[0m\u001b[36m\u001b[0m | \u001b[48;2;46;204;113m\u001b[37m\u001b[1mNEG_DSD: time: 0.0095s, density: 5.132777\u001b[0m\u001b[48;2;46;204;113m\u001b[37m\u001b[0m\n",
      "\u001b[48;2;44;62;80m\u001b[37m\u001b[1m2025-10-15 11:15:16\u001b[0m\u001b[48;2;44;62;80m\u001b[37m\u001b[0m\u001b[48;2;44;62;80m\u001b[0m | \u001b[48;2;46;204;113m\u001b[37m\u001b[1mINFO    \u001b[0m\u001b[48;2;46;204;113m\u001b[37m\u001b[0m | \u001b[36m\u001b[1msrc.baselines:run:6\u001b[0m\u001b[36m\u001b[0m | \u001b[48;2;46;204;113m\u001b[37m\u001b[1mRunning on dataset: /Users/zxj/Desktop/NDS/input/Referendum/Referendum.txt\u001b[0m\u001b[48;2;46;204;113m\u001b[37m\u001b[0m\n",
      "\u001b[48;2;44;62;80m\u001b[37m\u001b[1m2025-10-15 11:15:16\u001b[0m\u001b[48;2;44;62;80m\u001b[37m\u001b[0m\u001b[48;2;44;62;80m\u001b[0m | \u001b[48;2;46;204;113m\u001b[37m\u001b[1mINFO    \u001b[0m\u001b[48;2;46;204;113m\u001b[37m\u001b[0m | \u001b[36m\u001b[1msrc.baselines:run:18\u001b[0m\u001b[36m\u001b[0m | \u001b[48;2;46;204;113m\u001b[37m\u001b[1mNEG_DSD: time: 0.0095s, density: 5.132777\u001b[0m\u001b[48;2;46;204;113m\u001b[37m\u001b[0m\n",
      "\u001b[48;2;44;62;80m\u001b[37m\u001b[1m2025-10-15 11:15:16\u001b[0m\u001b[48;2;44;62;80m\u001b[37m\u001b[0m\u001b[48;2;44;62;80m\u001b[0m | \u001b[48;2;46;204;113m\u001b[37m\u001b[1mINFO    \u001b[0m\u001b[48;2;46;204;113m\u001b[37m\u001b[0m | \u001b[36m\u001b[1msrc.baselines:run:6\u001b[0m\u001b[36m\u001b[0m | \u001b[48;2;46;204;113m\u001b[37m\u001b[1mRunning on dataset: /Users/zxj/Desktop/NDS/input/Referendum/Referendum.txt\u001b[0m\u001b[48;2;46;204;113m\u001b[37m\u001b[0m\n"
     ]
    },
    {
     "name": "stdout",
     "output_type": "stream",
     "text": [
      "Results written to /Users/zxj/Desktop/NDS/output/Partisanship/Partisanship_NDS.json\n",
      "Results written to /Users/zxj/Desktop/NDS/output/Partisanship/Partisanship_NEG_DSD.json\n"
     ]
    },
    {
     "name": "stderr",
     "output_type": "stream",
     "text": [
      "\u001b[48;2;44;62;80m\u001b[37m\u001b[1m2025-10-15 11:15:16\u001b[0m\u001b[48;2;44;62;80m\u001b[37m\u001b[0m\u001b[48;2;44;62;80m\u001b[0m | \u001b[48;2;46;204;113m\u001b[37m\u001b[1mINFO    \u001b[0m\u001b[48;2;46;204;113m\u001b[37m\u001b[0m | \u001b[36m\u001b[1msrc.baselines:run:18\u001b[0m\u001b[36m\u001b[0m | \u001b[48;2;46;204;113m\u001b[37m\u001b[1mNDS: time: 0.0128s, density: 17.779116\u001b[0m\u001b[48;2;46;204;113m\u001b[37m\u001b[0m\n",
      "\u001b[48;2;44;62;80m\u001b[37m\u001b[1m2025-10-15 11:15:16\u001b[0m\u001b[48;2;44;62;80m\u001b[37m\u001b[0m\u001b[48;2;44;62;80m\u001b[0m | \u001b[48;2;46;204;113m\u001b[37m\u001b[1mINFO    \u001b[0m\u001b[48;2;46;204;113m\u001b[37m\u001b[0m | \u001b[36m\u001b[1msrc.baselines:run:18\u001b[0m\u001b[36m\u001b[0m | \u001b[48;2;46;204;113m\u001b[37m\u001b[1mNEG_DSD: time: 0.0066s, density: 17.778640\u001b[0m\u001b[48;2;46;204;113m\u001b[37m\u001b[0m\n",
      "\u001b[48;2;44;62;80m\u001b[37m\u001b[1m2025-10-15 11:15:16\u001b[0m\u001b[48;2;44;62;80m\u001b[37m\u001b[0m\u001b[48;2;44;62;80m\u001b[0m | \u001b[48;2;26;188;156m\u001b[37m\u001b[1mSUCCESS \u001b[0m\u001b[48;2;26;188;156m\u001b[37m\u001b[0m | \u001b[36m\u001b[1msrc.baselines:run:19\u001b[0m\u001b[36m\u001b[0m | \u001b[48;2;26;188;156m\u001b[37m\u001b[1mAll done!\u001b[0m\u001b[48;2;26;188;156m\u001b[37m\u001b[0m\n"
     ]
    },
    {
     "name": "stdout",
     "output_type": "stream",
     "text": [
      "Results written to /Users/zxj/Desktop/NDS/output/Referendum/Referendum_NDS.json\n",
      "Results written to /Users/zxj/Desktop/NDS/output/Referendum/Referendum_NEG_DSD.json\n"
     ]
    }
   ],
   "source": [
    "with open('./config.json') as f:\n",
    "    run(json.load(f)['performance'])"
   ]
  },
  {
   "cell_type": "code",
   "execution_count": null,
   "id": "67bea05e",
   "metadata": {},
   "outputs": [],
   "source": []
  },
  {
   "cell_type": "markdown",
   "id": "8b022671",
   "metadata": {},
   "source": [
    "# Figures"
   ]
  },
  {
   "cell_type": "markdown",
   "id": "9a23a785",
   "metadata": {},
   "source": [
    "## Scalibility"
   ]
  },
  {
   "cell_type": "code",
   "execution_count": null,
   "id": "e360d57f",
   "metadata": {},
   "outputs": [],
   "source": [
    "# scalibility(run=False, save_path=f'output/figs-theta=0/scalibility/scalibility.pdf')"
   ]
  }
 ],
 "metadata": {
  "kernelspec": {
   "display_name": "NDS (3.13.8)",
   "language": "python",
   "name": "python3"
  },
  "language_info": {
   "codemirror_mode": {
    "name": "ipython",
    "version": 3
   },
   "file_extension": ".py",
   "mimetype": "text/x-python",
   "name": "python",
   "nbconvert_exporter": "python",
   "pygments_lexer": "ipython3",
   "version": "3.13.8"
  }
 },
 "nbformat": 4,
 "nbformat_minor": 5
}
